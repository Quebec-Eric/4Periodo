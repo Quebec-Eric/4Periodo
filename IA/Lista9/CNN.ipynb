{
 "cells": [
  {
   "cell_type": "code",
   "execution_count": 2,
   "metadata": {},
   "outputs": [],
   "source": [
    "import tensorflow as tf\n",
    "import keras as K"
   ]
  },
  {
   "cell_type": "code",
   "execution_count": 1090,
   "metadata": {},
   "outputs": [],
   "source": [
    "from keras.models import Sequential\n",
    "from keras.layers import Conv2D\n",
    "from keras.layers import MaxPooling2D\n",
    "from keras.layers import Flatten\n",
    "from keras.layers import Dense\n",
    "from IPython.display import Image"
   ]
  },
  {
   "cell_type": "code",
   "execution_count": 1091,
   "metadata": {},
   "outputs": [],
   "source": [
    "classifier = Sequential()"
   ]
  },
  {
   "cell_type": "code",
   "execution_count": 1092,
   "metadata": {},
   "outputs": [],
   "source": [
    "classifier.add(Conv2D(32, (3, 3), input_shape = (64, 64, 3), activation = 'relu'))"
   ]
  },
  {
   "cell_type": "code",
   "execution_count": 1093,
   "metadata": {},
   "outputs": [],
   "source": [
    "classifier.add(MaxPooling2D(pool_size = (2, 2)))"
   ]
  },
  {
   "cell_type": "code",
   "execution_count": 1094,
   "metadata": {},
   "outputs": [],
   "source": [
    "classifier.add(Conv2D(32, (3, 3), activation = 'relu'))"
   ]
  },
  {
   "cell_type": "code",
   "execution_count": 1095,
   "metadata": {},
   "outputs": [],
   "source": [
    "classifier.add(MaxPooling2D(pool_size = (2, 2)))"
   ]
  },
  {
   "cell_type": "code",
   "execution_count": 1096,
   "metadata": {},
   "outputs": [],
   "source": [
    "classifier.add(Flatten())"
   ]
  },
  {
   "cell_type": "code",
   "execution_count": 1097,
   "metadata": {},
   "outputs": [],
   "source": [
    "classifier.add(Dense(units = 128, activation = 'relu'))\n",
    "classifier.add(Dense(units = 1, activation = 'sigmoid'))"
   ]
  },
  {
   "cell_type": "code",
   "execution_count": 1098,
   "metadata": {},
   "outputs": [],
   "source": [
    "classifier.compile(optimizer = 'adam', loss = 'binary_crossentropy', metrics = ['accuracy'])"
   ]
  },
  {
   "cell_type": "code",
   "execution_count": 1099,
   "metadata": {},
   "outputs": [],
   "source": [
    "from keras.preprocessing.image import ImageDataGenerator\n",
    "train_datagen = ImageDataGenerator(rescale = 1./255,\n",
    "                                   shear_range = 0.2,\n",
    "                                   zoom_range = 0.2,\n",
    "                                   \n",
    "                                   horizontal_flip = True)\n",
    "\n",
    "validation_datagen = ImageDataGenerator(rescale = 1./255)"
   ]
  },
  {
   "cell_type": "code",
   "execution_count": 1100,
   "metadata": {},
   "outputs": [
    {
     "name": "stdout",
     "output_type": "stream",
     "text": [
      "Found 275 images belonging to 2 classes.\n",
      "Found 182 images belonging to 2 classes.\n"
     ]
    }
   ],
   "source": [
    "\n",
    "# Pré-processamento das imagens de treino e validação\n",
    "training_set = train_datagen.flow_from_directory('dataset_treino',\n",
    "                                                 target_size = (64, 64),\n",
    "                                                 batch_size = 32,\n",
    "                                                 class_mode = 'binary')\n",
    "\n",
    "validation_set = validation_datagen.flow_from_directory('dataset_validation',\n",
    "                                                        target_size = (64, 64),\n",
    "                                                        batch_size = 32,\n",
    "                                                        class_mode = 'binary')"
   ]
  },
  {
   "cell_type": "code",
   "execution_count": null,
   "metadata": {},
   "outputs": [],
   "source": []
  },
  {
   "cell_type": "code",
   "execution_count": 1101,
   "metadata": {},
   "outputs": [
    {
     "name": "stdout",
     "output_type": "stream",
     "text": [
      "Epoch 1/100\n"
     ]
    },
    {
     "name": "stderr",
     "output_type": "stream",
     "text": [
      "C:\\Users\\Quebec\\AppData\\Local\\Temp\\ipykernel_12972\\2022669486.py:1: UserWarning: `Model.fit_generator` is deprecated and will be removed in a future version. Please use `Model.fit`, which supports generators.\n",
      "  classifier.fit_generator(training_set,\n"
     ]
    },
    {
     "name": "stdout",
     "output_type": "stream",
     "text": [
      "9/9 [==============================] - ETA: 0s - loss: 0.6106 - accuracy: 0.6800WARNING:tensorflow:Your input ran out of data; interrupting training. Make sure that your dataset or generator can generate at least `steps_per_epoch * epochs` batches (in this case, 2000 batches). You may need to use the repeat() function when building your dataset.\n",
      "9/9 [==============================] - 1s 109ms/step - loss: 0.6106 - accuracy: 0.6800 - val_loss: 0.5567 - val_accuracy: 0.6868\n",
      "Epoch 2/100\n",
      "9/9 [==============================] - 1s 71ms/step - loss: 0.4713 - accuracy: 0.7636\n",
      "Epoch 3/100\n",
      "9/9 [==============================] - 1s 71ms/step - loss: 0.4559 - accuracy: 0.7709\n",
      "Epoch 4/100\n",
      "9/9 [==============================] - 1s 72ms/step - loss: 0.3495 - accuracy: 0.8545\n",
      "Epoch 5/100\n",
      "9/9 [==============================] - 1s 83ms/step - loss: 0.2451 - accuracy: 0.9127\n",
      "Epoch 6/100\n",
      "9/9 [==============================] - 1s 75ms/step - loss: 0.2335 - accuracy: 0.8764\n",
      "Epoch 7/100\n",
      "9/9 [==============================] - 1s 77ms/step - loss: 0.1858 - accuracy: 0.9127\n",
      "Epoch 8/100\n",
      "9/9 [==============================] - 1s 78ms/step - loss: 0.1997 - accuracy: 0.9018\n",
      "Epoch 9/100\n",
      "9/9 [==============================] - 1s 73ms/step - loss: 0.1674 - accuracy: 0.9345\n",
      "Epoch 10/100\n",
      "9/9 [==============================] - 1s 77ms/step - loss: 0.1861 - accuracy: 0.9164\n",
      "Epoch 11/100\n",
      "9/9 [==============================] - 1s 74ms/step - loss: 0.1653 - accuracy: 0.9455\n",
      "Epoch 12/100\n",
      "9/9 [==============================] - 1s 72ms/step - loss: 0.1605 - accuracy: 0.9418\n",
      "Epoch 13/100\n",
      "9/9 [==============================] - 1s 70ms/step - loss: 0.1397 - accuracy: 0.9455\n",
      "Epoch 14/100\n",
      "9/9 [==============================] - 1s 79ms/step - loss: 0.1045 - accuracy: 0.9673\n",
      "Epoch 15/100\n",
      "9/9 [==============================] - 1s 71ms/step - loss: 0.1027 - accuracy: 0.9527\n",
      "Epoch 16/100\n",
      "9/9 [==============================] - 1s 71ms/step - loss: 0.1090 - accuracy: 0.9527\n",
      "Epoch 17/100\n",
      "9/9 [==============================] - 1s 71ms/step - loss: 0.1013 - accuracy: 0.9455\n",
      "Epoch 18/100\n",
      "9/9 [==============================] - 1s 79ms/step - loss: 0.0942 - accuracy: 0.9745\n",
      "Epoch 19/100\n",
      "9/9 [==============================] - 1s 76ms/step - loss: 0.0975 - accuracy: 0.9564\n",
      "Epoch 20/100\n",
      "9/9 [==============================] - 1s 71ms/step - loss: 0.0862 - accuracy: 0.9636\n",
      "Epoch 21/100\n",
      "9/9 [==============================] - 1s 71ms/step - loss: 0.1183 - accuracy: 0.9636\n",
      "Epoch 22/100\n",
      "9/9 [==============================] - 1s 71ms/step - loss: 0.1369 - accuracy: 0.9491\n",
      "Epoch 23/100\n",
      "9/9 [==============================] - 1s 70ms/step - loss: 0.1082 - accuracy: 0.9636\n",
      "Epoch 24/100\n",
      "9/9 [==============================] - 1s 85ms/step - loss: 0.0684 - accuracy: 0.9782\n",
      "Epoch 25/100\n",
      "9/9 [==============================] - 1s 77ms/step - loss: 0.0594 - accuracy: 0.9855\n",
      "Epoch 26/100\n",
      "9/9 [==============================] - 1s 73ms/step - loss: 0.0586 - accuracy: 0.9782\n",
      "Epoch 27/100\n",
      "9/9 [==============================] - 1s 74ms/step - loss: 0.1091 - accuracy: 0.9564\n",
      "Epoch 28/100\n",
      "9/9 [==============================] - 1s 74ms/step - loss: 0.0833 - accuracy: 0.9745\n",
      "Epoch 29/100\n",
      "9/9 [==============================] - 1s 75ms/step - loss: 0.0488 - accuracy: 0.9855\n",
      "Epoch 30/100\n",
      "9/9 [==============================] - 1s 74ms/step - loss: 0.0502 - accuracy: 0.9818\n",
      "Epoch 31/100\n",
      "9/9 [==============================] - 1s 73ms/step - loss: 0.0511 - accuracy: 0.9855\n",
      "Epoch 32/100\n",
      "9/9 [==============================] - 1s 71ms/step - loss: 0.0206 - accuracy: 1.0000\n",
      "Epoch 33/100\n",
      "9/9 [==============================] - 1s 70ms/step - loss: 0.0300 - accuracy: 0.9927\n",
      "Epoch 34/100\n",
      "9/9 [==============================] - 1s 78ms/step - loss: 0.0561 - accuracy: 0.9818\n",
      "Epoch 35/100\n",
      "9/9 [==============================] - 1s 71ms/step - loss: 0.0244 - accuracy: 0.9927\n",
      "Epoch 36/100\n",
      "9/9 [==============================] - 1s 71ms/step - loss: 0.0247 - accuracy: 0.9927\n",
      "Epoch 37/100\n",
      "9/9 [==============================] - 1s 72ms/step - loss: 0.0240 - accuracy: 0.9964\n",
      "Epoch 38/100\n",
      "9/9 [==============================] - 1s 72ms/step - loss: 0.0327 - accuracy: 0.9891\n",
      "Epoch 39/100\n",
      "9/9 [==============================] - 1s 70ms/step - loss: 0.0465 - accuracy: 0.9818\n",
      "Epoch 40/100\n",
      "9/9 [==============================] - 1s 71ms/step - loss: 0.0466 - accuracy: 0.9782\n",
      "Epoch 41/100\n",
      "9/9 [==============================] - 1s 70ms/step - loss: 0.0505 - accuracy: 0.9855\n",
      "Epoch 42/100\n",
      "9/9 [==============================] - 1s 74ms/step - loss: 0.0580 - accuracy: 0.9745\n",
      "Epoch 43/100\n",
      "9/9 [==============================] - 1s 73ms/step - loss: 0.0638 - accuracy: 0.9782\n",
      "Epoch 44/100\n",
      "9/9 [==============================] - 1s 71ms/step - loss: 0.0285 - accuracy: 0.9927\n",
      "Epoch 45/100\n",
      "9/9 [==============================] - 1s 71ms/step - loss: 0.0185 - accuracy: 1.0000\n",
      "Epoch 46/100\n",
      "9/9 [==============================] - 1s 73ms/step - loss: 0.0274 - accuracy: 0.9927\n",
      "Epoch 47/100\n",
      "9/9 [==============================] - 1s 72ms/step - loss: 0.0273 - accuracy: 0.9927\n",
      "Epoch 48/100\n",
      "9/9 [==============================] - 1s 76ms/step - loss: 0.0168 - accuracy: 0.9964\n",
      "Epoch 49/100\n",
      "9/9 [==============================] - 1s 75ms/step - loss: 0.0299 - accuracy: 0.9855\n",
      "Epoch 50/100\n",
      "9/9 [==============================] - 1s 72ms/step - loss: 0.0462 - accuracy: 0.9782\n",
      "Epoch 51/100\n",
      "9/9 [==============================] - 1s 70ms/step - loss: 0.0379 - accuracy: 0.9891\n",
      "Epoch 52/100\n",
      "9/9 [==============================] - 1s 75ms/step - loss: 0.0532 - accuracy: 0.9855\n",
      "Epoch 53/100\n",
      "9/9 [==============================] - 1s 71ms/step - loss: 0.0399 - accuracy: 0.9927\n",
      "Epoch 54/100\n",
      "9/9 [==============================] - 1s 70ms/step - loss: 0.0528 - accuracy: 0.9891\n",
      "Epoch 55/100\n",
      "9/9 [==============================] - 1s 70ms/step - loss: 0.0345 - accuracy: 0.9891\n",
      "Epoch 56/100\n",
      "9/9 [==============================] - 1s 76ms/step - loss: 0.0258 - accuracy: 0.9927\n",
      "Epoch 57/100\n",
      "9/9 [==============================] - 1s 71ms/step - loss: 0.0213 - accuracy: 0.9927\n",
      "Epoch 58/100\n",
      "9/9 [==============================] - 1s 69ms/step - loss: 0.0150 - accuracy: 0.9964\n",
      "Epoch 59/100\n",
      "9/9 [==============================] - 1s 72ms/step - loss: 0.0145 - accuracy: 0.9964\n",
      "Epoch 60/100\n",
      "9/9 [==============================] - 1s 76ms/step - loss: 0.0095 - accuracy: 1.0000\n",
      "Epoch 61/100\n",
      "9/9 [==============================] - 1s 70ms/step - loss: 0.0076 - accuracy: 0.9964\n",
      "Epoch 62/100\n",
      "9/9 [==============================] - 1s 69ms/step - loss: 0.0106 - accuracy: 0.9964\n",
      "Epoch 63/100\n",
      "9/9 [==============================] - 1s 69ms/step - loss: 0.0102 - accuracy: 0.9964\n",
      "Epoch 64/100\n",
      "9/9 [==============================] - 1s 71ms/step - loss: 0.0035 - accuracy: 1.0000\n",
      "Epoch 65/100\n",
      "9/9 [==============================] - 1s 71ms/step - loss: 0.0045 - accuracy: 1.0000\n",
      "Epoch 66/100\n",
      "9/9 [==============================] - 1s 70ms/step - loss: 0.0037 - accuracy: 1.0000\n",
      "Epoch 67/100\n",
      "9/9 [==============================] - 1s 70ms/step - loss: 0.0036 - accuracy: 1.0000\n",
      "Epoch 68/100\n",
      "9/9 [==============================] - 1s 77ms/step - loss: 0.0050 - accuracy: 1.0000\n",
      "Epoch 69/100\n",
      "9/9 [==============================] - 1s 71ms/step - loss: 0.0030 - accuracy: 1.0000\n",
      "Epoch 70/100\n",
      "9/9 [==============================] - 1s 75ms/step - loss: 0.0030 - accuracy: 1.0000\n",
      "Epoch 71/100\n",
      "9/9 [==============================] - 1s 74ms/step - loss: 0.0015 - accuracy: 1.0000\n",
      "Epoch 72/100\n",
      "9/9 [==============================] - 1s 71ms/step - loss: 0.0019 - accuracy: 1.0000\n",
      "Epoch 73/100\n",
      "9/9 [==============================] - 1s 70ms/step - loss: 0.0034 - accuracy: 1.0000\n",
      "Epoch 74/100\n",
      "9/9 [==============================] - 1s 72ms/step - loss: 0.0015 - accuracy: 1.0000\n",
      "Epoch 75/100\n",
      "9/9 [==============================] - 1s 70ms/step - loss: 0.0013 - accuracy: 1.0000\n",
      "Epoch 76/100\n",
      "9/9 [==============================] - 1s 70ms/step - loss: 0.0014 - accuracy: 1.0000\n",
      "Epoch 77/100\n",
      "9/9 [==============================] - 1s 71ms/step - loss: 9.5455e-04 - accuracy: 1.0000\n",
      "Epoch 78/100\n",
      "9/9 [==============================] - 1s 71ms/step - loss: 8.8429e-04 - accuracy: 1.0000\n",
      "Epoch 79/100\n",
      "9/9 [==============================] - 1s 70ms/step - loss: 0.0022 - accuracy: 1.0000\n",
      "Epoch 80/100\n",
      "9/9 [==============================] - 1s 70ms/step - loss: 0.0023 - accuracy: 1.0000\n",
      "Epoch 81/100\n",
      "9/9 [==============================] - 1s 69ms/step - loss: 0.0029 - accuracy: 1.0000\n",
      "Epoch 82/100\n",
      "9/9 [==============================] - 1s 70ms/step - loss: 0.0017 - accuracy: 1.0000\n",
      "Epoch 83/100\n",
      "9/9 [==============================] - 1s 71ms/step - loss: 0.0030 - accuracy: 1.0000\n",
      "Epoch 84/100\n",
      "9/9 [==============================] - 1s 71ms/step - loss: 0.0020 - accuracy: 1.0000\n",
      "Epoch 85/100\n",
      "9/9 [==============================] - 1s 70ms/step - loss: 0.0010 - accuracy: 1.0000\n",
      "Epoch 86/100\n",
      "9/9 [==============================] - 1s 75ms/step - loss: 0.0019 - accuracy: 1.0000\n",
      "Epoch 87/100\n",
      "9/9 [==============================] - 1s 69ms/step - loss: 0.0034 - accuracy: 1.0000\n",
      "Epoch 88/100\n",
      "9/9 [==============================] - 1s 70ms/step - loss: 0.0028 - accuracy: 1.0000\n",
      "Epoch 89/100\n",
      "9/9 [==============================] - 1s 71ms/step - loss: 0.0041 - accuracy: 1.0000\n",
      "Epoch 90/100\n",
      "9/9 [==============================] - 1s 69ms/step - loss: 0.0018 - accuracy: 1.0000\n",
      "Epoch 91/100\n",
      "9/9 [==============================] - 1s 70ms/step - loss: 0.0084 - accuracy: 0.9964\n",
      "Epoch 92/100\n",
      "9/9 [==============================] - 1s 71ms/step - loss: 0.0108 - accuracy: 0.9927\n",
      "Epoch 93/100\n",
      "9/9 [==============================] - 1s 72ms/step - loss: 0.0033 - accuracy: 1.0000\n",
      "Epoch 94/100\n",
      "9/9 [==============================] - 1s 71ms/step - loss: 0.0076 - accuracy: 0.9964\n",
      "Epoch 95/100\n",
      "9/9 [==============================] - 1s 72ms/step - loss: 0.0185 - accuracy: 0.9927\n",
      "Epoch 96/100\n",
      "9/9 [==============================] - 1s 72ms/step - loss: 0.0135 - accuracy: 0.9927\n",
      "Epoch 97/100\n",
      "9/9 [==============================] - 1s 76ms/step - loss: 0.0402 - accuracy: 0.9855\n",
      "Epoch 98/100\n",
      "9/9 [==============================] - 1s 70ms/step - loss: 0.0231 - accuracy: 0.9891\n",
      "Epoch 99/100\n",
      "9/9 [==============================] - 1s 70ms/step - loss: 0.0539 - accuracy: 0.9818\n",
      "Epoch 100/100\n",
      "9/9 [==============================] - 1s 71ms/step - loss: 0.0076 - accuracy: 1.0000\n"
     ]
    },
    {
     "data": {
      "text/plain": [
       "<keras.callbacks.History at 0x2aaaa56e320>"
      ]
     },
     "execution_count": 1101,
     "metadata": {},
     "output_type": "execute_result"
    }
   ],
   "source": [
    "classifier.fit_generator(training_set,\n",
    "                         epochs=100,\n",
    "                         validation_data=validation_set,\n",
    "                         validation_steps=2000)\n"
   ]
  },
  {
   "cell_type": "code",
   "execution_count": 1102,
   "metadata": {},
   "outputs": [
    {
     "name": "stdout",
     "output_type": "stream",
     "text": [
      "1/1 [==============================] - 0s 48ms/step\n"
     ]
    },
    {
     "data": {
      "image/jpeg": "[encoded data removed]",
      "text/plain": [
       "<IPython.core.display.Image object>"
      ]
     },
     "execution_count": 1102,
     "metadata": {},
     "output_type": "execute_result"
    }
   ],
   "source": [
    "# Segunda Imagem\n",
    "# Primeira Imagem\n",
    "import numpy as np\n",
    "import keras\n",
    "import tensorflow as tf\n",
    "test_image = keras.utils.load_img('dataset_teste/grimace_(1).jpg', target_size = (64, 64))\n",
    "test_image = keras.utils.img_to_array(test_image)\n",
    "test_image = np.expand_dims(test_image, axis = 0)\n",
    "result = classifier.predict(test_image)\n",
    "training_set.class_indices\n",
    "\n",
    "if result[0][0] == 1:\n",
    "    prediction = 'Thanos'\n",
    "else:\n",
    "    prediction = 'Grimace'\n",
    "\n",
    "Image(filename='dataset_teste/grimace_(1).jpg')"
   ]
  },
  {
   "cell_type": "markdown",
   "metadata": {},
   "source": []
  },
  {
   "cell_type": "code",
   "execution_count": 1103,
   "metadata": {},
   "outputs": [
    {
     "data": {
      "text/plain": [
       "'Thanos'"
      ]
     },
     "execution_count": 1103,
     "metadata": {},
     "output_type": "execute_result"
    }
   ],
   "source": [
    "prediction"
   ]
  },
  {
   "cell_type": "code",
   "execution_count": 1104,
   "metadata": {},
   "outputs": [
    {
     "name": "stdout",
     "output_type": "stream",
     "text": [
      "1/1 [==============================] - 0s 14ms/step\n"
     ]
    },
    {
     "data": {
      "image/jpeg": "[encoded data removed]",
      "text/plain": [
       "<IPython.core.display.Image object>"
      ]
     },
     "execution_count": 1104,
     "metadata": {},
     "output_type": "execute_result"
    }
   ],
   "source": [
    "test_image =  keras.utils.load_img('dataset_teste/thanos_(1).jpg', target_size = (64, 64))\n",
    "test_image =keras.utils.img_to_array(test_image)\n",
    "test_image = np.expand_dims(test_image, axis = 0)\n",
    "result = classifier.predict(test_image)\n",
    "training_set.class_indices\n",
    "\n",
    "\n",
    "if result[0][0] == 1:\n",
    "    prediction = 'Thanos'\n",
    "else:\n",
    "    prediction = 'Grimace'\n",
    "\n",
    "Image(filename='dataset_teste/thanos_(1).jpg')"
   ]
  },
  {
   "cell_type": "code",
   "execution_count": 1105,
   "metadata": {},
   "outputs": [
    {
     "data": {
      "text/plain": [
       "'Thanos'"
      ]
     },
     "execution_count": 1105,
     "metadata": {},
     "output_type": "execute_result"
    }
   ],
   "source": [
    "prediction"
   ]
  },
  {
   "cell_type": "code",
   "execution_count": 1106,
   "metadata": {},
   "outputs": [
    {
     "name": "stdout",
     "output_type": "stream",
     "text": [
      "1/1 [==============================] - 0s 14ms/step\n"
     ]
    },
    {
     "data": {
      "image/jpeg": "[encoded data removed]",
      "text/plain": [
       "<IPython.core.display.Image object>"
      ]
     },
     "execution_count": 1106,
     "metadata": {},
     "output_type": "execute_result"
    }
   ],
   "source": [
    "test_image =  keras.utils.load_img('dataset_teste/thanos_(4).jpg', target_size = (64, 64))\n",
    "test_image =keras.utils.img_to_array(test_image)\n",
    "test_image = np.expand_dims(test_image, axis = 0)\n",
    "result = classifier.predict(test_image)\n",
    "training_set.class_indices\n",
    "\n",
    "\n",
    "if result[0][0] == 1:\n",
    "    prediction = 'Thanos'\n",
    "else:\n",
    "    prediction = 'Grimace'\n",
    "\n",
    "Image(filename='dataset_teste/thanos_(4).jpg')"
   ]
  },
  {
   "cell_type": "code",
   "execution_count": 1107,
   "metadata": {},
   "outputs": [
    {
     "data": {
      "text/plain": [
       "'Grimace'"
      ]
     },
     "execution_count": 1107,
     "metadata": {},
     "output_type": "execute_result"
    }
   ],
   "source": [
    "prediction"
   ]
  },
  {
   "cell_type": "code",
   "execution_count": 1108,
   "metadata": {},
   "outputs": [
    {
     "name": "stdout",
     "output_type": "stream",
     "text": [
      "1/1 [==============================] - 0s 13ms/step\n"
     ]
    },
    {
     "data": {
      "image/jpeg": "[encoded data removed]",
      "text/plain": [
       "<IPython.core.display.Image object>"
      ]
     },
     "execution_count": 1108,
     "metadata": {},
     "output_type": "execute_result"
    }
   ],
   "source": [
    "test_image =  keras.utils.load_img('dataset_teste/grimace_(4).jpg', target_size = (64, 64))\n",
    "test_image =keras.utils.img_to_array(test_image)\n",
    "test_image = np.expand_dims(test_image, axis = 0)\n",
    "result = classifier.predict(test_image)\n",
    "training_set.class_indices\n",
    "\n",
    "\n",
    "if result[0][0] == 1:\n",
    "    prediction = 'Thanos'\n",
    "else:\n",
    "    prediction = 'Grimace'\n",
    "\n",
    "Image(filename='dataset_teste/grimace_(4).jpg')"
   ]
  },
  {
   "cell_type": "code",
   "execution_count": 1109,
   "metadata": {},
   "outputs": [
    {
     "data": {
      "text/plain": [
       "'Thanos'"
      ]
     },
     "execution_count": 1109,
     "metadata": {},
     "output_type": "execute_result"
    }
   ],
   "source": [
    "prediction"
   ]
  },
  {
   "cell_type": "code",
   "execution_count": 3,
   "metadata": {},
   "outputs": [
    {
     "ename": "NameError",
     "evalue": "name 'keras' is not defined",
     "output_type": "error",
     "traceback": [
      "\u001b[1;31m---------------------------------------------------------------------------\u001b[0m",
      "\u001b[1;31mNameError\u001b[0m                                 Traceback (most recent call last)",
      "\u001b[1;32mc:\\Users\\Quebec\\Documents\\4P\\4Periodo\\IA\\Lista9\\CNN.ipynb Cell 23'\u001b[0m in \u001b[0;36m<cell line: 1>\u001b[1;34m()\u001b[0m\n\u001b[1;32m----> <a href='vscode-notebook-cell:/c%3A/Users/Quebec/Documents/4P/4Periodo/IA/Lista9/CNN.ipynb#ch0000022?line=0'>1</a>\u001b[0m test_image \u001b[39m=\u001b[39m  keras\u001b[39m.\u001b[39mutils\u001b[39m.\u001b[39mload_img(\u001b[39m'\u001b[39m\u001b[39mtt.jpg\u001b[39m\u001b[39m'\u001b[39m, target_size \u001b[39m=\u001b[39m (\u001b[39m64\u001b[39m, \u001b[39m64\u001b[39m))\n\u001b[0;32m      <a href='vscode-notebook-cell:/c%3A/Users/Quebec/Documents/4P/4Periodo/IA/Lista9/CNN.ipynb#ch0000022?line=1'>2</a>\u001b[0m test_image \u001b[39m=\u001b[39mkeras\u001b[39m.\u001b[39mutils\u001b[39m.\u001b[39mimg_to_array(test_image)\n\u001b[0;32m      <a href='vscode-notebook-cell:/c%3A/Users/Quebec/Documents/4P/4Periodo/IA/Lista9/CNN.ipynb#ch0000022?line=2'>3</a>\u001b[0m test_image \u001b[39m=\u001b[39m np\u001b[39m.\u001b[39mexpand_dims(test_image, axis \u001b[39m=\u001b[39m \u001b[39m0\u001b[39m)\n",
      "\u001b[1;31mNameError\u001b[0m: name 'keras' is not defined"
     ]
    }
   ],
   "source": [
    "test_image =  keras.utils.load_img('tt.jpg', target_size = (64, 64))\n",
    "test_image =keras.utils.img_to_array(test_image)\n",
    "test_image = np.expand_dims(test_image, axis = 0)\n",
    "result = classifier.predict(test_image)\n",
    "training_set.class_indices\n",
    "\n",
    "\n",
    "if result[0][0] == 1:\n",
    "    prediction = 'Thanos'\n",
    "else:\n",
    "    prediction = 'Grimace'\n",
    "\n",
    "Image(filename='tt.jpg')"
   ]
  }
 ],
 "metadata": {
  "kernelspec": {
   "display_name": "Python 3.10.4 64-bit",
   "language": "python",
   "name": "python3"
  },
  "language_info": {
   "codemirror_mode": {
    "name": "ipython",
    "version": 3
   },
   "file_extension": ".py",
   "mimetype": "text/x-python",
   "name": "python",
   "nbconvert_exporter": "python",
   "pygments_lexer": "ipython3",
   "version": "3.10.4"
  },
  "orig_nbformat": 4,
  "vscode": {
   "interpreter": {
    "hash": "0666281a62d357c52bc0bfd1a9b94bbeb7297553eb3d67315c1694bd8bcca259"
   }
  }
 },
 "nbformat": 4,
 "nbformat_minor": 2
}
