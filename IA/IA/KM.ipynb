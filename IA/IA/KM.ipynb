{
 "cells": [
  {
   "cell_type": "code",
   "execution_count": 191,
   "metadata": {},
   "outputs": [],
   "source": [
    "import pandas as pd\n",
    "from sklearn.cluster import KMeans\n",
    "import matplotlib.pyplot as plt\n",
    "from scipy.spatial.distance import cityblock\n",
    "import numpy as np\n",
    "\n",
    "\n"
   ]
  },
  {
   "cell_type": "code",
   "execution_count": 192,
   "metadata": {},
   "outputs": [],
   "source": [
    "df = pd.read_csv('Iris.csv')\n",
    "td = pd.read_csv('Iris.csv')\n"
   ]
  },
  {
   "cell_type": "code",
   "execution_count": 193,
   "metadata": {},
   "outputs": [
    {
     "data": {
      "text/html": [
       "<div>\n",
       "<style scoped>\n",
       "    .dataframe tbody tr th:only-of-type {\n",
       "        vertical-align: middle;\n",
       "    }\n",
       "\n",
       "    .dataframe tbody tr th {\n",
       "        vertical-align: top;\n",
       "    }\n",
       "\n",
       "    .dataframe thead th {\n",
       "        text-align: right;\n",
       "    }\n",
       "</style>\n",
       "<table border=\"1\" class=\"dataframe\">\n",
       "  <thead>\n",
       "    <tr style=\"text-align: right;\">\n",
       "      <th></th>\n",
       "      <th>sepallength</th>\n",
       "      <th>sepalwidth</th>\n",
       "      <th>petallength</th>\n",
       "      <th>petalwidth</th>\n",
       "      <th>class</th>\n",
       "    </tr>\n",
       "  </thead>\n",
       "  <tbody>\n",
       "    <tr>\n",
       "      <th>0</th>\n",
       "      <td>5.1</td>\n",
       "      <td>3.5</td>\n",
       "      <td>1.4</td>\n",
       "      <td>0.2</td>\n",
       "      <td>Iris-setosa</td>\n",
       "    </tr>\n",
       "    <tr>\n",
       "      <th>1</th>\n",
       "      <td>4.9</td>\n",
       "      <td>3.0</td>\n",
       "      <td>1.4</td>\n",
       "      <td>0.2</td>\n",
       "      <td>Iris-setosa</td>\n",
       "    </tr>\n",
       "    <tr>\n",
       "      <th>2</th>\n",
       "      <td>4.7</td>\n",
       "      <td>3.2</td>\n",
       "      <td>1.3</td>\n",
       "      <td>0.2</td>\n",
       "      <td>Iris-setosa</td>\n",
       "    </tr>\n",
       "    <tr>\n",
       "      <th>3</th>\n",
       "      <td>4.6</td>\n",
       "      <td>3.1</td>\n",
       "      <td>1.5</td>\n",
       "      <td>0.2</td>\n",
       "      <td>Iris-setosa</td>\n",
       "    </tr>\n",
       "    <tr>\n",
       "      <th>4</th>\n",
       "      <td>5.0</td>\n",
       "      <td>3.6</td>\n",
       "      <td>1.4</td>\n",
       "      <td>0.2</td>\n",
       "      <td>Iris-setosa</td>\n",
       "    </tr>\n",
       "  </tbody>\n",
       "</table>\n",
       "</div>"
      ],
      "text/plain": [
       "   sepallength  sepalwidth  petallength  petalwidth        class\n",
       "0          5.1         3.5          1.4         0.2  Iris-setosa\n",
       "1          4.9         3.0          1.4         0.2  Iris-setosa\n",
       "2          4.7         3.2          1.3         0.2  Iris-setosa\n",
       "3          4.6         3.1          1.5         0.2  Iris-setosa\n",
       "4          5.0         3.6          1.4         0.2  Iris-setosa"
      ]
     },
     "execution_count": 193,
     "metadata": {},
     "output_type": "execute_result"
    }
   ],
   "source": [
    "df.head()\n"
   ]
  },
  {
   "cell_type": "code",
   "execution_count": 194,
   "metadata": {},
   "outputs": [
    {
     "data": {
      "text/html": [
       "<div>\n",
       "<style scoped>\n",
       "    .dataframe tbody tr th:only-of-type {\n",
       "        vertical-align: middle;\n",
       "    }\n",
       "\n",
       "    .dataframe tbody tr th {\n",
       "        vertical-align: top;\n",
       "    }\n",
       "\n",
       "    .dataframe thead th {\n",
       "        text-align: right;\n",
       "    }\n",
       "</style>\n",
       "<table border=\"1\" class=\"dataframe\">\n",
       "  <thead>\n",
       "    <tr style=\"text-align: right;\">\n",
       "      <th></th>\n",
       "      <th>sepallength</th>\n",
       "      <th>sepalwidth</th>\n",
       "      <th>petallength</th>\n",
       "      <th>petalwidth</th>\n",
       "    </tr>\n",
       "  </thead>\n",
       "  <tbody>\n",
       "    <tr>\n",
       "      <th>0</th>\n",
       "      <td>5.1</td>\n",
       "      <td>3.5</td>\n",
       "      <td>1.4</td>\n",
       "      <td>0.2</td>\n",
       "    </tr>\n",
       "    <tr>\n",
       "      <th>1</th>\n",
       "      <td>4.9</td>\n",
       "      <td>3.0</td>\n",
       "      <td>1.4</td>\n",
       "      <td>0.2</td>\n",
       "    </tr>\n",
       "    <tr>\n",
       "      <th>2</th>\n",
       "      <td>4.7</td>\n",
       "      <td>3.2</td>\n",
       "      <td>1.3</td>\n",
       "      <td>0.2</td>\n",
       "    </tr>\n",
       "    <tr>\n",
       "      <th>3</th>\n",
       "      <td>4.6</td>\n",
       "      <td>3.1</td>\n",
       "      <td>1.5</td>\n",
       "      <td>0.2</td>\n",
       "    </tr>\n",
       "    <tr>\n",
       "      <th>4</th>\n",
       "      <td>5.0</td>\n",
       "      <td>3.6</td>\n",
       "      <td>1.4</td>\n",
       "      <td>0.2</td>\n",
       "    </tr>\n",
       "  </tbody>\n",
       "</table>\n",
       "</div>"
      ],
      "text/plain": [
       "   sepallength  sepalwidth  petallength  petalwidth\n",
       "0          5.1         3.5          1.4         0.2\n",
       "1          4.9         3.0          1.4         0.2\n",
       "2          4.7         3.2          1.3         0.2\n",
       "3          4.6         3.1          1.5         0.2\n",
       "4          5.0         3.6          1.4         0.2"
      ]
     },
     "execution_count": 194,
     "metadata": {},
     "output_type": "execute_result"
    }
   ],
   "source": [
    "df = df.drop('class', axis=1)\n",
    "df.head()\n"
   ]
  },
  {
   "cell_type": "code",
   "execution_count": 195,
   "metadata": {},
   "outputs": [
    {
     "data": {
      "text/plain": [
       "(4.3, 7.9)"
      ]
     },
     "execution_count": 195,
     "metadata": {},
     "output_type": "execute_result"
    }
   ],
   "source": [
    "# valor Minino da classe Sepallength / valor Maximo da classe Sepallength\n",
    "df[\"sepallength\"].min() , df[\"sepallength\"].max()\n"
   ]
  },
  {
   "cell_type": "code",
   "execution_count": 196,
   "metadata": {},
   "outputs": [
    {
     "data": {
      "text/plain": [
       "(2.0, 4.4)"
      ]
     },
     "execution_count": 196,
     "metadata": {},
     "output_type": "execute_result"
    }
   ],
   "source": [
    "# valor Minimo da classe Sepalwidth /valor Maximo da classe Sepalwidth\n",
    "df[\"sepalwidth\"].min() ,df[\"sepalwidth\"].max()\n"
   ]
  },
  {
   "cell_type": "code",
   "execution_count": 197,
   "metadata": {},
   "outputs": [
    {
     "data": {
      "text/plain": [
       "(1.0, 6.9)"
      ]
     },
     "execution_count": 197,
     "metadata": {},
     "output_type": "execute_result"
    }
   ],
   "source": [
    "# valor Minimo da classe petallength /  valor Maximo da classe petallength\n",
    "df[\"petallength\"].min() , df[\"petallength\"].max()\n"
   ]
  },
  {
   "cell_type": "code",
   "execution_count": 198,
   "metadata": {},
   "outputs": [
    {
     "data": {
      "text/plain": [
       "(0.1, 2.5)"
      ]
     },
     "execution_count": 198,
     "metadata": {},
     "output_type": "execute_result"
    }
   ],
   "source": [
    "# valor Minimo da classe petalwidth /valor Maximo da classe petalwidth\n",
    "df[\"petalwidth\"].min() ,df[\"petalwidth\"].max()\n"
   ]
  },
  {
   "cell_type": "code",
   "execution_count": 199,
   "metadata": {},
   "outputs": [
    {
     "data": {
      "text/plain": [
       "{'whiskers': [<matplotlib.lines.Line2D at 0x18dc3da5990>,\n",
       "  <matplotlib.lines.Line2D at 0x18dc3da5c60>,\n",
       "  <matplotlib.lines.Line2D at 0x18dc3da6d40>,\n",
       "  <matplotlib.lines.Line2D at 0x18dc3da7010>,\n",
       "  <matplotlib.lines.Line2D at 0x18dc3dd8130>,\n",
       "  <matplotlib.lines.Line2D at 0x18dc3dd8400>,\n",
       "  <matplotlib.lines.Line2D at 0x18dc3d08070>,\n",
       "  <matplotlib.lines.Line2D at 0x18dc3d0a4a0>],\n",
       " 'caps': [<matplotlib.lines.Line2D at 0x18dc3da5f30>,\n",
       "  <matplotlib.lines.Line2D at 0x18dc3da6200>,\n",
       "  <matplotlib.lines.Line2D at 0x18dc3da72e0>,\n",
       "  <matplotlib.lines.Line2D at 0x18dc3da75b0>,\n",
       "  <matplotlib.lines.Line2D at 0x18dc3c20910>,\n",
       "  <matplotlib.lines.Line2D at 0x18dc3a2ded0>,\n",
       "  <matplotlib.lines.Line2D at 0x18dc3d09930>,\n",
       "  <matplotlib.lines.Line2D at 0x18dc3dd82b0>],\n",
       " 'boxes': [<matplotlib.lines.Line2D at 0x18dc3da56c0>,\n",
       "  <matplotlib.lines.Line2D at 0x18dc3da6a70>,\n",
       "  <matplotlib.lines.Line2D at 0x18dc3da7e20>,\n",
       "  <matplotlib.lines.Line2D at 0x18dc3d08880>],\n",
       " 'medians': [<matplotlib.lines.Line2D at 0x18dc3da64d0>,\n",
       "  <matplotlib.lines.Line2D at 0x18dc3da7880>,\n",
       "  <matplotlib.lines.Line2D at 0x18dc3d0a950>,\n",
       "  <matplotlib.lines.Line2D at 0x18dc3dd8700>],\n",
       " 'fliers': [<matplotlib.lines.Line2D at 0x18dc3da67a0>,\n",
       "  <matplotlib.lines.Line2D at 0x18dc3da7b50>,\n",
       "  <matplotlib.lines.Line2D at 0x18dc3d0ab60>,\n",
       "  <matplotlib.lines.Line2D at 0x18dc3dd89d0>],\n",
       " 'means': []}"
      ]
     },
     "execution_count": 199,
     "metadata": {},
     "output_type": "execute_result"
    },
    {
     "data": {
      "image/png": "[encoded data removed]",
      "text/plain": [
       "<Figure size 432x288 with 1 Axes>"
      ]
     },
     "metadata": {
      "needs_background": "light"
     },
     "output_type": "display_data"
    }
   ],
   "source": [
    "plt.boxplot(df)\n"
   ]
  },
  {
   "cell_type": "code",
   "execution_count": 200,
   "metadata": {},
   "outputs": [
    {
     "data": {
      "text/plain": [
       "{'whiskers': [<matplotlib.lines.Line2D at 0x18dc3e0f6d0>,\n",
       "  <matplotlib.lines.Line2D at 0x18dc3e0f9a0>],\n",
       " 'caps': [<matplotlib.lines.Line2D at 0x18dc3e0fc70>,\n",
       "  <matplotlib.lines.Line2D at 0x18dc3e0ff40>],\n",
       " 'boxes': [<matplotlib.lines.Line2D at 0x18dc3e0f520>],\n",
       " 'medians': [<matplotlib.lines.Line2D at 0x18dc3e28250>],\n",
       " 'fliers': [<matplotlib.lines.Line2D at 0x18dc3e28520>],\n",
       " 'means': []}"
      ]
     },
     "execution_count": 200,
     "metadata": {},
     "output_type": "execute_result"
    },
    {
     "data": {
      "image/png": "[encoded data removed]",
      "text/plain": [
       "<Figure size 432x288 with 1 Axes>"
      ]
     },
     "metadata": {
      "needs_background": "light"
     },
     "output_type": "display_data"
    }
   ],
   "source": [
    "plt.boxplot(df.sepalwidth)\n"
   ]
  },
  {
   "cell_type": "code",
   "execution_count": 201,
   "metadata": {},
   "outputs": [
    {
     "data": {
      "text/plain": [
       "(2.8, 3.3)"
      ]
     },
     "execution_count": 201,
     "metadata": {},
     "output_type": "execute_result"
    }
   ],
   "source": [
    "Q1 = df.sepalwidth.quantile(0.25)\n",
    "Q3 = df.sepalwidth.quantile(0.75)\n",
    "Q1, Q3\n"
   ]
  },
  {
   "cell_type": "code",
   "execution_count": 202,
   "metadata": {},
   "outputs": [
    {
     "data": {
      "text/plain": [
       "0.5"
      ]
     },
     "execution_count": 202,
     "metadata": {},
     "output_type": "execute_result"
    }
   ],
   "source": [
    "IQR = Q3-Q1\n",
    "IQR\n"
   ]
  },
  {
   "cell_type": "code",
   "execution_count": 203,
   "metadata": {},
   "outputs": [
    {
     "data": {
      "text/plain": [
       "(2.05, 4.05)"
      ]
     },
     "execution_count": 203,
     "metadata": {},
     "output_type": "execute_result"
    }
   ],
   "source": [
    "LowrL = Q1-1.5*IQR\n",
    "UperL = Q3+1.5*IQR\n",
    "LowrL, UperL\n"
   ]
  },
  {
   "cell_type": "code",
   "execution_count": 204,
   "metadata": {},
   "outputs": [
    {
     "data": {
      "text/html": [
       "<div>\n",
       "<style scoped>\n",
       "    .dataframe tbody tr th:only-of-type {\n",
       "        vertical-align: middle;\n",
       "    }\n",
       "\n",
       "    .dataframe tbody tr th {\n",
       "        vertical-align: top;\n",
       "    }\n",
       "\n",
       "    .dataframe thead th {\n",
       "        text-align: right;\n",
       "    }\n",
       "</style>\n",
       "<table border=\"1\" class=\"dataframe\">\n",
       "  <thead>\n",
       "    <tr style=\"text-align: right;\">\n",
       "      <th></th>\n",
       "      <th>sepallength</th>\n",
       "      <th>sepalwidth</th>\n",
       "      <th>petallength</th>\n",
       "      <th>petalwidth</th>\n",
       "    </tr>\n",
       "  </thead>\n",
       "  <tbody>\n",
       "    <tr>\n",
       "      <th>15</th>\n",
       "      <td>5.7</td>\n",
       "      <td>4.4</td>\n",
       "      <td>1.5</td>\n",
       "      <td>0.4</td>\n",
       "    </tr>\n",
       "    <tr>\n",
       "      <th>32</th>\n",
       "      <td>5.2</td>\n",
       "      <td>4.1</td>\n",
       "      <td>1.5</td>\n",
       "      <td>0.1</td>\n",
       "    </tr>\n",
       "    <tr>\n",
       "      <th>33</th>\n",
       "      <td>5.5</td>\n",
       "      <td>4.2</td>\n",
       "      <td>1.4</td>\n",
       "      <td>0.2</td>\n",
       "    </tr>\n",
       "    <tr>\n",
       "      <th>60</th>\n",
       "      <td>5.0</td>\n",
       "      <td>2.0</td>\n",
       "      <td>3.5</td>\n",
       "      <td>1.0</td>\n",
       "    </tr>\n",
       "  </tbody>\n",
       "</table>\n",
       "</div>"
      ],
      "text/plain": [
       "    sepallength  sepalwidth  petallength  petalwidth\n",
       "15          5.7         4.4          1.5         0.4\n",
       "32          5.2         4.1          1.5         0.1\n",
       "33          5.5         4.2          1.4         0.2\n",
       "60          5.0         2.0          3.5         1.0"
      ]
     },
     "execution_count": 204,
     "metadata": {},
     "output_type": "execute_result"
    }
   ],
   "source": [
    "df[(df.sepalwidth < LowrL) | (df.sepalwidth > UperL)]\n"
   ]
  },
  {
   "cell_type": "code",
   "execution_count": 205,
   "metadata": {},
   "outputs": [
    {
     "data": {
      "text/plain": [
       "(146, 4)"
      ]
     },
     "execution_count": 205,
     "metadata": {},
     "output_type": "execute_result"
    }
   ],
   "source": [
    "df2 = df[(df.sepalwidth > LowrL) & (df.sepalwidth < UperL)]\n",
    "df2.shape\n",
    "\n"
   ]
  },
  {
   "cell_type": "code",
   "execution_count": 206,
   "metadata": {},
   "outputs": [],
   "source": [
    "td2 = td[(td.sepalwidth > LowrL) & (td.sepalwidth < UperL)]"
   ]
  },
  {
   "cell_type": "code",
   "execution_count": 210,
   "metadata": {},
   "outputs": [
    {
     "data": {
      "text/plain": [
       "<matplotlib.collections.PathCollection at 0x18dc3ee1870>"
      ]
     },
     "execution_count": 210,
     "metadata": {},
     "output_type": "execute_result"
    },
    {
     "data": {
      "image/png": "[encoded data removed]",
      "text/plain": [
       "<Figure size 432x288 with 1 Axes>"
      ]
     },
     "metadata": {
      "needs_background": "light"
     },
     "output_type": "display_data"
    }
   ],
   "source": [
    "k_means=KMeans(n_clusters=3,random_state=0).fit(df)\n",
    "colors = ['#DF2020', '#81DF20', '#2095DF']\n",
    "k_means.labels_\n",
    "df['cluster'] = k_means.fit_predict(df)\n",
    "centroids=k_means.cluster_centers_\n",
    "cen_x=[i[0]for i in centroids]\n",
    "cen_y=[i[1]for i in centroids]\n",
    "df['cen_x'] = df.cluster.map({0:cen_x[0], 1:cen_x[1], 2:cen_x[2]})\n",
    "df['cen_y'] = df.cluster.map({0:cen_y[0], 1:cen_y[1], 2:cen_y[2]})\n",
    "df['c'] = df.cluster.map({0:colors[0], 1:colors[1], 2:colors[2]})\n",
    "plt.scatter(df.petallength,df.sepallength,c=df.c)"
   ]
  },
  {
   "cell_type": "code",
   "execution_count": 207,
   "metadata": {},
   "outputs": [],
   "source": [
    "#\n",
    "def valordeSSe(clusters):\n",
    "    sse = 0.0\n",
    "    for c in clusters:\n",
    "        tt = 0.0\n",
    "        c_centroid = c.centroid.coords\n",
    "        for po in c.points:\n",
    "            tt += reduce(lambda x, y: x + pow((po.coords[y]- c.centroid.coords[y]), 2),\n",
    "                 range(po.n), 0.0)\n",
    "        sse += tt\n",
    "    return sse       \n"
   ]
  },
  {
   "cell_type": "code",
   "execution_count": 208,
   "metadata": {},
   "outputs": [],
   "source": [
    "#Codigo da Coeficiente de Silhouette\n",
    "def fazerSiLh(df, x):\n",
    "    wss = []\n",
    "    valores = []\n",
    "    ai = 0.0\n",
    "    bi = 0.0\n",
    "    si = 0.0\n",
    "    for quantidade in range(x):\n",
    "        valores.append(df[df['cluster'] == quantidade].to_numpy())\n",
    "    for m in range(len(valores)):\n",
    "        for i in range(len(valores[m])):\n",
    "            for t in range(len(valores[m])-1):\n",
    "                ci= cityblock(valores[m][i], valores[m][t+1])\n",
    "                if(ci != 1):\n",
    "                    ai+=ci\n",
    "    ai = 1/ai-1\n",
    "\n",
    "    for m in range(len(valores)-1):\n",
    "        for i in range(len(valores[m])):\n",
    "            for t in range(len(valores[m+1])):\n",
    "                cj = cityblock(valores[m][i], valores[m+1][t])\n",
    "                if(cj != 1):\n",
    "                    bi+=cj\n",
    "\n",
    "    bi = 1/bi\n",
    "\n",
    "    if(ai < bi):\n",
    "        wss.append((1-ai/bi)/100)\n",
    "    elif ai == bi:\n",
    "        wss.append(0)\n",
    "    else:\n",
    "        wss.append((bi/ai-1)/100)\n",
    "    return wss\n"
   ]
  },
  {
   "cell_type": "code",
   "execution_count": 209,
   "metadata": {},
   "outputs": [
    {
     "data": {
      "text/plain": [
       "[[396.05893806972205],\n",
       " [313.02492445812857],\n",
       " [261.8527026633594],\n",
       " [239.08178336921404],\n",
       " [202.33901266213067],\n",
       " [189.275296742455],\n",
       " [176.9928025645531],\n",
       " [156.70093711866542],\n",
       " [158.0560365926813]]"
      ]
     },
     "execution_count": 209,
     "metadata": {},
     "output_type": "execute_result"
    },
    {
     "data": {
      "image/png": "[encoded data removed]",
      "text/plain": [
       "<Figure size 432x288 with 1 Axes>"
      ]
     },
     "metadata": {
      "needs_background": "light"
     },
     "output_type": "display_data"
    }
   ],
   "source": [
    "wss=[]\n",
    "\n",
    "for i in range(2, 11):\n",
    "    k_means = KMeans(n_clusters=i, random_state=0).fit(df)\n",
    "    k_means.labels_\n",
    "    df['cluster'] = k_means.fit_predict(df)\n",
    "    centroids = k_means.cluster_centers_\n",
    "    #cen_x=[i[0]for i in centroids]\n",
    "    wssm.append(k_means.inertia_)\n",
    "    #cen_y=[i[1]for i in centroids]\n",
    "    wss.append(fazerSiLh(df, i))\n",
    "plt.plot(range(2, 11), wss ,marker=\"+\")\n",
    "\n",
    "wss"
   ]
  }
 ],
 "metadata": {
  "interpreter": {
   "hash": "0666281a62d357c52bc0bfd1a9b94bbeb7297553eb3d67315c1694bd8bcca259"
  },
  "kernelspec": {
   "display_name": "Python 3.10.4 64-bit",
   "language": "python",
   "name": "python3"
  },
  "language_info": {
   "codemirror_mode": {
    "name": "ipython",
    "version": 3
   },
   "file_extension": ".py",
   "mimetype": "text/x-python",
   "name": "python",
   "nbconvert_exporter": "python",
   "pygments_lexer": "ipython3",
   "version": "3.10.4"
  },
  "orig_nbformat": 4
 },
 "nbformat": 4,
 "nbformat_minor": 2
}
