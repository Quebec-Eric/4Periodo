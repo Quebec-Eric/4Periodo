{
 "cells": [
  {
   "cell_type": "code",
   "execution_count": 58,
   "metadata": {},
   "outputs": [
    {
     "name": "stdout",
     "output_type": "stream",
     "text": [
      "Requirement already satisfied: spacy in c:\\users\\quebec\\appdata\\local\\programs\\python\\python310\\lib\\site-packages (3.3.1)\n",
      "Requirement already satisfied: typer<0.5.0,>=0.3.0 in c:\\users\\quebec\\appdata\\local\\programs\\python\\python310\\lib\\site-packages (from spacy) (0.4.1)\n",
      "Requirement already satisfied: pathy>=0.3.5 in c:\\users\\quebec\\appdata\\local\\programs\\python\\python310\\lib\\site-packages (from spacy) (0.6.1)\n",
      "Requirement already satisfied: cymem<2.1.0,>=2.0.2 in c:\\users\\quebec\\appdata\\local\\programs\\python\\python310\\lib\\site-packages (from spacy) (2.0.6)\n",
      "Requirement already satisfied: spacy-loggers<2.0.0,>=1.0.0 in c:\\users\\quebec\\appdata\\local\\programs\\python\\python310\\lib\\site-packages (from spacy) (1.0.2)\n",
      "Requirement already satisfied: pydantic!=1.8,!=1.8.1,<1.9.0,>=1.7.4 in c:\\users\\quebec\\appdata\\local\\programs\\python\\python310\\lib\\site-packages (from spacy) (1.8.2)\n",
      "Requirement already satisfied: murmurhash<1.1.0,>=0.28.0 in c:\\users\\quebec\\appdata\\local\\programs\\python\\python310\\lib\\site-packages (from spacy) (1.0.7)\n",
      "Requirement already satisfied: wasabi<1.1.0,>=0.9.1 in c:\\users\\quebec\\appdata\\local\\programs\\python\\python310\\lib\\site-packages (from spacy) (0.9.1)\n",
      "Requirement already satisfied: srsly<3.0.0,>=2.4.3 in c:\\users\\quebec\\appdata\\local\\programs\\python\\python310\\lib\\site-packages (from spacy) (2.4.3)\n",
      "Requirement already satisfied: packaging>=20.0 in c:\\users\\quebec\\appdata\\local\\programs\\python\\python310\\lib\\site-packages (from spacy) (21.3)\n",
      "Requirement already satisfied: thinc<8.1.0,>=8.0.14 in c:\\users\\quebec\\appdata\\local\\programs\\python\\python310\\lib\\site-packages (from spacy) (8.0.16)\n",
      "Requirement already satisfied: langcodes<4.0.0,>=3.2.0 in c:\\users\\quebec\\appdata\\local\\programs\\python\\python310\\lib\\site-packages (from spacy) (3.3.0)\n",
      "Requirement already satisfied: requests<3.0.0,>=2.13.0 in c:\\users\\quebec\\appdata\\local\\programs\\python\\python310\\lib\\site-packages (from spacy) (2.27.1)\n",
      "Requirement already satisfied: tqdm<5.0.0,>=4.38.0 in c:\\users\\quebec\\appdata\\local\\programs\\python\\python310\\lib\\site-packages (from spacy) (4.64.0)\n",
      "Requirement already satisfied: catalogue<2.1.0,>=2.0.6 in c:\\users\\quebec\\appdata\\local\\programs\\python\\python310\\lib\\site-packages (from spacy) (2.0.7)\n",
      "Requirement already satisfied: numpy>=1.15.0 in c:\\users\\quebec\\appdata\\local\\programs\\python\\python310\\lib\\site-packages (from spacy) (1.22.3)\n",
      "Requirement already satisfied: setuptools in c:\\users\\quebec\\appdata\\local\\programs\\python\\python310\\lib\\site-packages (from spacy) (58.1.0)\n",
      "Requirement already satisfied: jinja2 in c:\\users\\quebec\\appdata\\local\\programs\\python\\python310\\lib\\site-packages (from spacy) (3.1.2)\n",
      "Requirement already satisfied: preshed<3.1.0,>=3.0.2 in c:\\users\\quebec\\appdata\\local\\programs\\python\\python310\\lib\\site-packages (from spacy) (3.0.6)\n",
      "Requirement already satisfied: spacy-legacy<3.1.0,>=3.0.9 in c:\\users\\quebec\\appdata\\local\\programs\\python\\python310\\lib\\site-packages (from spacy) (3.0.9)\n",
      "Requirement already satisfied: blis<0.8.0,>=0.4.0 in c:\\users\\quebec\\appdata\\local\\programs\\python\\python310\\lib\\site-packages (from spacy) (0.7.7)\n",
      "Requirement already satisfied: pyparsing!=3.0.5,>=2.0.2 in c:\\users\\quebec\\appdata\\local\\programs\\python\\python310\\lib\\site-packages (from packaging>=20.0->spacy) (3.0.9)\n",
      "Requirement already satisfied: smart-open<6.0.0,>=5.0.0 in c:\\users\\quebec\\appdata\\local\\programs\\python\\python310\\lib\\site-packages (from pathy>=0.3.5->spacy) (5.2.1)\n",
      "Requirement already satisfied: typing-extensions>=3.7.4.3 in c:\\users\\quebec\\appdata\\local\\programs\\python\\python310\\lib\\site-packages (from pydantic!=1.8,!=1.8.1,<1.9.0,>=1.7.4->spacy) (4.2.0)\n",
      "Requirement already satisfied: charset-normalizer~=2.0.0 in c:\\users\\quebec\\appdata\\local\\programs\\python\\python310\\lib\\site-packages (from requests<3.0.0,>=2.13.0->spacy) (2.0.12)\n",
      "Requirement already satisfied: idna<4,>=2.5 in c:\\users\\quebec\\appdata\\local\\programs\\python\\python310\\lib\\site-packages (from requests<3.0.0,>=2.13.0->spacy) (3.3)\n",
      "Requirement already satisfied: certifi>=2017.4.17 in c:\\users\\quebec\\appdata\\local\\programs\\python\\python310\\lib\\site-packages (from requests<3.0.0,>=2.13.0->spacy) (2022.5.18.1)\n",
      "Requirement already satisfied: urllib3<1.27,>=1.21.1 in c:\\users\\quebec\\appdata\\local\\programs\\python\\python310\\lib\\site-packages (from requests<3.0.0,>=2.13.0->spacy) (1.26.9)\n",
      "Requirement already satisfied: colorama in c:\\users\\quebec\\appdata\\local\\programs\\python\\python310\\lib\\site-packages (from tqdm<5.0.0,>=4.38.0->spacy) (0.4.4)\n",
      "Requirement already satisfied: click<9.0.0,>=7.1.1 in c:\\users\\quebec\\appdata\\local\\programs\\python\\python310\\lib\\site-packages (from typer<0.5.0,>=0.3.0->spacy) (8.1.3)\n",
      "Requirement already satisfied: MarkupSafe>=2.0 in c:\\users\\quebec\\appdata\\local\\programs\\python\\python310\\lib\\site-packages (from jinja2->spacy) (2.1.1)\n",
      "Collecting pt-core-news-sm==3.3.0\n",
      "  Using cached https://github.com/explosion/spacy-models/releases/download/pt_core_news_sm-3.3.0/pt_core_news_sm-3.3.0-py3-none-any.whl (13.0 MB)\n",
      "Requirement already satisfied: spacy<3.4.0,>=3.3.0.dev0 in c:\\users\\quebec\\appdata\\local\\programs\\python\\python310\\lib\\site-packages (from pt-core-news-sm==3.3.0) (3.3.1)\n",
      "Requirement already satisfied: setuptools in c:\\users\\quebec\\appdata\\local\\programs\\python\\python310\\lib\\site-packages (from spacy<3.4.0,>=3.3.0.dev0->pt-core-news-sm==3.3.0) (58.1.0)\n",
      "Requirement already satisfied: langcodes<4.0.0,>=3.2.0 in c:\\users\\quebec\\appdata\\local\\programs\\python\\python310\\lib\\site-packages (from spacy<3.4.0,>=3.3.0.dev0->pt-core-news-sm==3.3.0) (3.3.0)\n",
      "Requirement already satisfied: numpy>=1.15.0 in c:\\users\\quebec\\appdata\\local\\programs\\python\\python310\\lib\\site-packages (from spacy<3.4.0,>=3.3.0.dev0->pt-core-news-sm==3.3.0) (1.22.3)\n",
      "Requirement already satisfied: spacy-loggers<2.0.0,>=1.0.0 in c:\\users\\quebec\\appdata\\local\\programs\\python\\python310\\lib\\site-packages (from spacy<3.4.0,>=3.3.0.dev0->pt-core-news-sm==3.3.0) (1.0.2)\n",
      "Requirement already satisfied: requests<3.0.0,>=2.13.0 in c:\\users\\quebec\\appdata\\local\\programs\\python\\python310\\lib\\site-packages (from spacy<3.4.0,>=3.3.0.dev0->pt-core-news-sm==3.3.0) (2.27.1)\n",
      "Requirement already satisfied: pydantic!=1.8,!=1.8.1,<1.9.0,>=1.7.4 in c:\\users\\quebec\\appdata\\local\\programs\\python\\python310\\lib\\site-packages (from spacy<3.4.0,>=3.3.0.dev0->pt-core-news-sm==3.3.0) (1.8.2)\n",
      "Requirement already satisfied: pathy>=0.3.5 in c:\\users\\quebec\\appdata\\local\\programs\\python\\python310\\lib\\site-packages (from spacy<3.4.0,>=3.3.0.dev0->pt-core-news-sm==3.3.0) (0.6.1)\n",
      "Requirement already satisfied: preshed<3.1.0,>=3.0.2 in c:\\users\\quebec\\appdata\\local\\programs\\python\\python310\\lib\\site-packages (from spacy<3.4.0,>=3.3.0.dev0->pt-core-news-sm==3.3.0) (3.0.6)\n",
      "Requirement already satisfied: cymem<2.1.0,>=2.0.2 in c:\\users\\quebec\\appdata\\local\\programs\\python\\python310\\lib\\site-packages (from spacy<3.4.0,>=3.3.0.dev0->pt-core-news-sm==3.3.0) (2.0.6)\n",
      "Requirement already satisfied: typer<0.5.0,>=0.3.0 in c:\\users\\quebec\\appdata\\local\\programs\\python\\python310\\lib\\site-packages (from spacy<3.4.0,>=3.3.0.dev0->pt-core-news-sm==3.3.0) (0.4.1)\n",
      "Requirement already satisfied: blis<0.8.0,>=0.4.0 in c:\\users\\quebec\\appdata\\local\\programs\\python\\python310\\lib\\site-packages (from spacy<3.4.0,>=3.3.0.dev0->pt-core-news-sm==3.3.0) (0.7.7)\n",
      "Requirement already satisfied: murmurhash<1.1.0,>=0.28.0 in c:\\users\\quebec\\appdata\\local\\programs\\python\\python310\\lib\\site-packages (from spacy<3.4.0,>=3.3.0.dev0->pt-core-news-sm==3.3.0) (1.0.7)\n",
      "Requirement already satisfied: packaging>=20.0 in c:\\users\\quebec\\appdata\\local\\programs\\python\\python310\\lib\\site-packages (from spacy<3.4.0,>=3.3.0.dev0->pt-core-news-sm==3.3.0) (21.3)\n",
      "Requirement already satisfied: spacy-legacy<3.1.0,>=3.0.9 in c:\\users\\quebec\\appdata\\local\\programs\\python\\python310\\lib\\site-packages (from spacy<3.4.0,>=3.3.0.dev0->pt-core-news-sm==3.3.0) (3.0.9)\n",
      "Requirement already satisfied: jinja2 in c:\\users\\quebec\\appdata\\local\\programs\\python\\python310\\lib\\site-packages (from spacy<3.4.0,>=3.3.0.dev0->pt-core-news-sm==3.3.0) (3.1.2)\n",
      "Requirement already satisfied: tqdm<5.0.0,>=4.38.0 in c:\\users\\quebec\\appdata\\local\\programs\\python\\python310\\lib\\site-packages (from spacy<3.4.0,>=3.3.0.dev0->pt-core-news-sm==3.3.0) (4.64.0)\n",
      "Requirement already satisfied: wasabi<1.1.0,>=0.9.1 in c:\\users\\quebec\\appdata\\local\\programs\\python\\python310\\lib\\site-packages (from spacy<3.4.0,>=3.3.0.dev0->pt-core-news-sm==3.3.0) (0.9.1)\n",
      "Requirement already satisfied: thinc<8.1.0,>=8.0.14 in c:\\users\\quebec\\appdata\\local\\programs\\python\\python310\\lib\\site-packages (from spacy<3.4.0,>=3.3.0.dev0->pt-core-news-sm==3.3.0) (8.0.16)\n",
      "Requirement already satisfied: srsly<3.0.0,>=2.4.3 in c:\\users\\quebec\\appdata\\local\\programs\\python\\python310\\lib\\site-packages (from spacy<3.4.0,>=3.3.0.dev0->pt-core-news-sm==3.3.0) (2.4.3)\n",
      "Requirement already satisfied: catalogue<2.1.0,>=2.0.6 in c:\\users\\quebec\\appdata\\local\\programs\\python\\python310\\lib\\site-packages (from spacy<3.4.0,>=3.3.0.dev0->pt-core-news-sm==3.3.0) (2.0.7)\n",
      "Requirement already satisfied: pyparsing!=3.0.5,>=2.0.2 in c:\\users\\quebec\\appdata\\local\\programs\\python\\python310\\lib\\site-packages (from packaging>=20.0->spacy<3.4.0,>=3.3.0.dev0->pt-core-news-sm==3.3.0) (3.0.9)\n",
      "Requirement already satisfied: smart-open<6.0.0,>=5.0.0 in c:\\users\\quebec\\appdata\\local\\programs\\python\\python310\\lib\\site-packages (from pathy>=0.3.5->spacy<3.4.0,>=3.3.0.dev0->pt-core-news-sm==3.3.0) (5.2.1)\n",
      "Requirement already satisfied: typing-extensions>=3.7.4.3 in c:\\users\\quebec\\appdata\\local\\programs\\python\\python310\\lib\\site-packages (from pydantic!=1.8,!=1.8.1,<1.9.0,>=1.7.4->spacy<3.4.0,>=3.3.0.dev0->pt-core-news-sm==3.3.0) (4.2.0)\n",
      "Requirement already satisfied: urllib3<1.27,>=1.21.1 in c:\\users\\quebec\\appdata\\local\\programs\\python\\python310\\lib\\site-packages (from requests<3.0.0,>=2.13.0->spacy<3.4.0,>=3.3.0.dev0->pt-core-news-sm==3.3.0) (1.26.9)\n",
      "Requirement already satisfied: charset-normalizer~=2.0.0 in c:\\users\\quebec\\appdata\\local\\programs\\python\\python310\\lib\\site-packages (from requests<3.0.0,>=2.13.0->spacy<3.4.0,>=3.3.0.dev0->pt-core-news-sm==3.3.0) (2.0.12)\n",
      "Requirement already satisfied: idna<4,>=2.5 in c:\\users\\quebec\\appdata\\local\\programs\\python\\python310\\lib\\site-packages (from requests<3.0.0,>=2.13.0->spacy<3.4.0,>=3.3.0.dev0->pt-core-news-sm==3.3.0) (3.3)\n",
      "Requirement already satisfied: certifi>=2017.4.17 in c:\\users\\quebec\\appdata\\local\\programs\\python\\python310\\lib\\site-packages (from requests<3.0.0,>=2.13.0->spacy<3.4.0,>=3.3.0.dev0->pt-core-news-sm==3.3.0) (2022.5.18.1)\n",
      "Requirement already satisfied: colorama in c:\\users\\quebec\\appdata\\local\\programs\\python\\python310\\lib\\site-packages (from tqdm<5.0.0,>=4.38.0->spacy<3.4.0,>=3.3.0.dev0->pt-core-news-sm==3.3.0) (0.4.4)\n",
      "Requirement already satisfied: click<9.0.0,>=7.1.1 in c:\\users\\quebec\\appdata\\local\\programs\\python\\python310\\lib\\site-packages (from typer<0.5.0,>=0.3.0->spacy<3.4.0,>=3.3.0.dev0->pt-core-news-sm==3.3.0) (8.1.3)\n",
      "Requirement already satisfied: MarkupSafe>=2.0 in c:\\users\\quebec\\appdata\\local\\programs\\python\\python310\\lib\\site-packages (from jinja2->spacy<3.4.0,>=3.3.0.dev0->pt-core-news-sm==3.3.0) (2.1.1)\n",
      "✔ Download and installation successful\n",
      "You can now load the package via spacy.load('pt_core_news_sm')\n"
     ]
    },
    {
     "name": "stderr",
     "output_type": "stream",
     "text": [
      "2022-06-18 19:43:41.491634: W tensorflow/stream_executor/platform/default/dso_loader.cc:64] Could not load dynamic library 'cudart64_110.dll'; dlerror: cudart64_110.dll not found\n",
      "2022-06-18 19:43:41.491852: I tensorflow/stream_executor/cuda/cudart_stub.cc:29] Ignore above cudart dlerror if you do not have a GPU set up on your machine.\n"
     ]
    },
    {
     "name": "stdout",
     "output_type": "stream",
     "text": [
      "Collecting en-core-web-sm==3.3.0\n",
      "  Using cached https://github.com/explosion/spacy-models/releases/download/en_core_web_sm-3.3.0/en_core_web_sm-3.3.0-py3-none-any.whl (12.8 MB)\n",
      "Requirement already satisfied: spacy<3.4.0,>=3.3.0.dev0 in c:\\users\\quebec\\appdata\\local\\programs\\python\\python310\\lib\\site-packages (from en-core-web-sm==3.3.0) (3.3.1)\n",
      "Requirement already satisfied: spacy-legacy<3.1.0,>=3.0.9 in c:\\users\\quebec\\appdata\\local\\programs\\python\\python310\\lib\\site-packages (from spacy<3.4.0,>=3.3.0.dev0->en-core-web-sm==3.3.0) (3.0.9)\n",
      "Requirement already satisfied: murmurhash<1.1.0,>=0.28.0 in c:\\users\\quebec\\appdata\\local\\programs\\python\\python310\\lib\\site-packages (from spacy<3.4.0,>=3.3.0.dev0->en-core-web-sm==3.3.0) (1.0.7)\n",
      "Requirement already satisfied: pathy>=0.3.5 in c:\\users\\quebec\\appdata\\local\\programs\\python\\python310\\lib\\site-packages (from spacy<3.4.0,>=3.3.0.dev0->en-core-web-sm==3.3.0) (0.6.1)\n",
      "Requirement already satisfied: srsly<3.0.0,>=2.4.3 in c:\\users\\quebec\\appdata\\local\\programs\\python\\python310\\lib\\site-packages (from spacy<3.4.0,>=3.3.0.dev0->en-core-web-sm==3.3.0) (2.4.3)\n",
      "Requirement already satisfied: pydantic!=1.8,!=1.8.1,<1.9.0,>=1.7.4 in c:\\users\\quebec\\appdata\\local\\programs\\python\\python310\\lib\\site-packages (from spacy<3.4.0,>=3.3.0.dev0->en-core-web-sm==3.3.0) (1.8.2)\n",
      "Requirement already satisfied: tqdm<5.0.0,>=4.38.0 in c:\\users\\quebec\\appdata\\local\\programs\\python\\python310\\lib\\site-packages (from spacy<3.4.0,>=3.3.0.dev0->en-core-web-sm==3.3.0) (4.64.0)\n",
      "Requirement already satisfied: jinja2 in c:\\users\\quebec\\appdata\\local\\programs\\python\\python310\\lib\\site-packages (from spacy<3.4.0,>=3.3.0.dev0->en-core-web-sm==3.3.0) (3.1.2)\n",
      "Requirement already satisfied: setuptools in c:\\users\\quebec\\appdata\\local\\programs\\python\\python310\\lib\\site-packages (from spacy<3.4.0,>=3.3.0.dev0->en-core-web-sm==3.3.0) (58.1.0)\n",
      "Requirement already satisfied: numpy>=1.15.0 in c:\\users\\quebec\\appdata\\local\\programs\\python\\python310\\lib\\site-packages (from spacy<3.4.0,>=3.3.0.dev0->en-core-web-sm==3.3.0) (1.22.3)\n",
      "Requirement already satisfied: blis<0.8.0,>=0.4.0 in c:\\users\\quebec\\appdata\\local\\programs\\python\\python310\\lib\\site-packages (from spacy<3.4.0,>=3.3.0.dev0->en-core-web-sm==3.3.0) (0.7.7)\n",
      "Requirement already satisfied: catalogue<2.1.0,>=2.0.6 in c:\\users\\quebec\\appdata\\local\\programs\\python\\python310\\lib\\site-packages (from spacy<3.4.0,>=3.3.0.dev0->en-core-web-sm==3.3.0) (2.0.7)\n",
      "Requirement already satisfied: thinc<8.1.0,>=8.0.14 in c:\\users\\quebec\\appdata\\local\\programs\\python\\python310\\lib\\site-packages (from spacy<3.4.0,>=3.3.0.dev0->en-core-web-sm==3.3.0) (8.0.16)\n",
      "Requirement already satisfied: wasabi<1.1.0,>=0.9.1 in c:\\users\\quebec\\appdata\\local\\programs\\python\\python310\\lib\\site-packages (from spacy<3.4.0,>=3.3.0.dev0->en-core-web-sm==3.3.0) (0.9.1)\n",
      "Requirement already satisfied: langcodes<4.0.0,>=3.2.0 in c:\\users\\quebec\\appdata\\local\\programs\\python\\python310\\lib\\site-packages (from spacy<3.4.0,>=3.3.0.dev0->en-core-web-sm==3.3.0) (3.3.0)\n",
      "Requirement already satisfied: cymem<2.1.0,>=2.0.2 in c:\\users\\quebec\\appdata\\local\\programs\\python\\python310\\lib\\site-packages (from spacy<3.4.0,>=3.3.0.dev0->en-core-web-sm==3.3.0) (2.0.6)\n",
      "Requirement already satisfied: requests<3.0.0,>=2.13.0 in c:\\users\\quebec\\appdata\\local\\programs\\python\\python310\\lib\\site-packages (from spacy<3.4.0,>=3.3.0.dev0->en-core-web-sm==3.3.0) (2.27.1)\n",
      "Requirement already satisfied: spacy-loggers<2.0.0,>=1.0.0 in c:\\users\\quebec\\appdata\\local\\programs\\python\\python310\\lib\\site-packages (from spacy<3.4.0,>=3.3.0.dev0->en-core-web-sm==3.3.0) (1.0.2)\n",
      "Requirement already satisfied: typer<0.5.0,>=0.3.0 in c:\\users\\quebec\\appdata\\local\\programs\\python\\python310\\lib\\site-packages (from spacy<3.4.0,>=3.3.0.dev0->en-core-web-sm==3.3.0) (0.4.1)\n",
      "Requirement already satisfied: preshed<3.1.0,>=3.0.2 in c:\\users\\quebec\\appdata\\local\\programs\\python\\python310\\lib\\site-packages (from spacy<3.4.0,>=3.3.0.dev0->en-core-web-sm==3.3.0) (3.0.6)\n",
      "Requirement already satisfied: packaging>=20.0 in c:\\users\\quebec\\appdata\\local\\programs\\python\\python310\\lib\\site-packages (from spacy<3.4.0,>=3.3.0.dev0->en-core-web-sm==3.3.0) (21.3)\n",
      "Requirement already satisfied: pyparsing!=3.0.5,>=2.0.2 in c:\\users\\quebec\\appdata\\local\\programs\\python\\python310\\lib\\site-packages (from packaging>=20.0->spacy<3.4.0,>=3.3.0.dev0->en-core-web-sm==3.3.0) (3.0.9)\n",
      "Requirement already satisfied: smart-open<6.0.0,>=5.0.0 in c:\\users\\quebec\\appdata\\local\\programs\\python\\python310\\lib\\site-packages (from pathy>=0.3.5->spacy<3.4.0,>=3.3.0.dev0->en-core-web-sm==3.3.0) (5.2.1)\n",
      "Requirement already satisfied: typing-extensions>=3.7.4.3 in c:\\users\\quebec\\appdata\\local\\programs\\python\\python310\\lib\\site-packages (from pydantic!=1.8,!=1.8.1,<1.9.0,>=1.7.4->spacy<3.4.0,>=3.3.0.dev0->en-core-web-sm==3.3.0) (4.2.0)\n",
      "Requirement already satisfied: idna<4,>=2.5 in c:\\users\\quebec\\appdata\\local\\programs\\python\\python310\\lib\\site-packages (from requests<3.0.0,>=2.13.0->spacy<3.4.0,>=3.3.0.dev0->en-core-web-sm==3.3.0) (3.3)\n",
      "Requirement already satisfied: urllib3<1.27,>=1.21.1 in c:\\users\\quebec\\appdata\\local\\programs\\python\\python310\\lib\\site-packages (from requests<3.0.0,>=2.13.0->spacy<3.4.0,>=3.3.0.dev0->en-core-web-sm==3.3.0) (1.26.9)\n",
      "Requirement already satisfied: charset-normalizer~=2.0.0 in c:\\users\\quebec\\appdata\\local\\programs\\python\\python310\\lib\\site-packages (from requests<3.0.0,>=2.13.0->spacy<3.4.0,>=3.3.0.dev0->en-core-web-sm==3.3.0) (2.0.12)\n",
      "Requirement already satisfied: certifi>=2017.4.17 in c:\\users\\quebec\\appdata\\local\\programs\\python\\python310\\lib\\site-packages (from requests<3.0.0,>=2.13.0->spacy<3.4.0,>=3.3.0.dev0->en-core-web-sm==3.3.0) (2022.5.18.1)\n",
      "Requirement already satisfied: colorama in c:\\users\\quebec\\appdata\\local\\programs\\python\\python310\\lib\\site-packages (from tqdm<5.0.0,>=4.38.0->spacy<3.4.0,>=3.3.0.dev0->en-core-web-sm==3.3.0) (0.4.4)\n",
      "Requirement already satisfied: click<9.0.0,>=7.1.1 in c:\\users\\quebec\\appdata\\local\\programs\\python\\python310\\lib\\site-packages (from typer<0.5.0,>=0.3.0->spacy<3.4.0,>=3.3.0.dev0->en-core-web-sm==3.3.0) (8.1.3)\n",
      "Requirement already satisfied: MarkupSafe>=2.0 in c:\\users\\quebec\\appdata\\local\\programs\\python\\python310\\lib\\site-packages (from jinja2->spacy<3.4.0,>=3.3.0.dev0->en-core-web-sm==3.3.0) (2.1.1)\n",
      "✔ Download and installation successful\n",
      "You can now load the package via spacy.load('en_core_web_sm')\n"
     ]
    },
    {
     "name": "stderr",
     "output_type": "stream",
     "text": [
      "2022-06-18 19:43:47.949465: W tensorflow/stream_executor/platform/default/dso_loader.cc:64] Could not load dynamic library 'cudart64_110.dll'; dlerror: cudart64_110.dll not found\n",
      "2022-06-18 19:43:47.949735: I tensorflow/stream_executor/cuda/cudart_stub.cc:29] Ignore above cudart dlerror if you do not have a GPU set up on your machine.\n"
     ]
    }
   ],
   "source": [
    "!pip install -U spacy\n",
    "!python -m spacy download pt_core_news_sm\n",
    "!python -m spacy download en_core_web_sm"
   ]
  },
  {
   "cell_type": "code",
   "execution_count": 59,
   "metadata": {},
   "outputs": [
    {
     "name": "stdout",
     "output_type": "stream",
     "text": [
      "Requirement already satisfied: deplacy in c:\\users\\quebec\\appdata\\local\\programs\\python\\python310\\lib\\site-packages (2.0.2)\n",
      "Requirement already satisfied: stanza in c:\\users\\quebec\\appdata\\local\\programs\\python\\python310\\lib\\site-packages (1.4.0)\n",
      "Requirement already satisfied: emoji in c:\\users\\quebec\\appdata\\local\\programs\\python\\python310\\lib\\site-packages (from stanza) (1.7.0)\n",
      "Requirement already satisfied: protobuf in c:\\users\\quebec\\appdata\\local\\programs\\python\\python310\\lib\\site-packages (from stanza) (3.19.4)\n",
      "Requirement already satisfied: numpy in c:\\users\\quebec\\appdata\\local\\programs\\python\\python310\\lib\\site-packages (from stanza) (1.22.3)\n",
      "Requirement already satisfied: transformers in c:\\users\\quebec\\appdata\\local\\programs\\python\\python310\\lib\\site-packages (from stanza) (4.20.0)\n",
      "Requirement already satisfied: torch>=1.3.0 in c:\\users\\quebec\\appdata\\local\\programs\\python\\python310\\lib\\site-packages (from stanza) (1.11.0)\n",
      "Requirement already satisfied: tqdm in c:\\users\\quebec\\appdata\\local\\programs\\python\\python310\\lib\\site-packages (from stanza) (4.64.0)\n",
      "Requirement already satisfied: six in c:\\users\\quebec\\appdata\\local\\programs\\python\\python310\\lib\\site-packages (from stanza) (1.16.0)\n",
      "Requirement already satisfied: requests in c:\\users\\quebec\\appdata\\local\\programs\\python\\python310\\lib\\site-packages (from stanza) (2.27.1)\n",
      "Requirement already satisfied: typing-extensions in c:\\users\\quebec\\appdata\\local\\programs\\python\\python310\\lib\\site-packages (from torch>=1.3.0->stanza) (4.2.0)\n",
      "Requirement already satisfied: certifi>=2017.4.17 in c:\\users\\quebec\\appdata\\local\\programs\\python\\python310\\lib\\site-packages (from requests->stanza) (2022.5.18.1)\n",
      "Requirement already satisfied: urllib3<1.27,>=1.21.1 in c:\\users\\quebec\\appdata\\local\\programs\\python\\python310\\lib\\site-packages (from requests->stanza) (1.26.9)\n",
      "Requirement already satisfied: idna<4,>=2.5 in c:\\users\\quebec\\appdata\\local\\programs\\python\\python310\\lib\\site-packages (from requests->stanza) (3.3)\n",
      "Requirement already satisfied: charset-normalizer~=2.0.0 in c:\\users\\quebec\\appdata\\local\\programs\\python\\python310\\lib\\site-packages (from requests->stanza) (2.0.12)\n",
      "Requirement already satisfied: colorama in c:\\users\\quebec\\appdata\\local\\programs\\python\\python310\\lib\\site-packages (from tqdm->stanza) (0.4.4)\n",
      "Requirement already satisfied: huggingface-hub<1.0,>=0.1.0 in c:\\users\\quebec\\appdata\\local\\programs\\python\\python310\\lib\\site-packages (from transformers->stanza) (0.7.0)\n",
      "Requirement already satisfied: pyyaml>=5.1 in c:\\users\\quebec\\appdata\\local\\programs\\python\\python310\\lib\\site-packages (from transformers->stanza) (6.0)\n",
      "Requirement already satisfied: regex!=2019.12.17 in c:\\users\\quebec\\appdata\\local\\programs\\python\\python310\\lib\\site-packages (from transformers->stanza) (2022.6.2)\n",
      "Requirement already satisfied: packaging>=20.0 in c:\\users\\quebec\\appdata\\local\\programs\\python\\python310\\lib\\site-packages (from transformers->stanza) (21.3)\n",
      "Requirement already satisfied: filelock in c:\\users\\quebec\\appdata\\local\\programs\\python\\python310\\lib\\site-packages (from transformers->stanza) (3.7.1)\n",
      "Requirement already satisfied: tokenizers!=0.11.3,<0.13,>=0.11.1 in c:\\users\\quebec\\appdata\\local\\programs\\python\\python310\\lib\\site-packages (from transformers->stanza) (0.12.1)\n",
      "Requirement already satisfied: pyparsing!=3.0.5,>=2.0.2 in c:\\users\\quebec\\appdata\\local\\programs\\python\\python310\\lib\\site-packages (from packaging>=20.0->transformers->stanza) (3.0.9)\n"
     ]
    },
    {
     "data": {
      "application/vnd.jupyter.widget-view+json": {
       "model_id": "ccd3833b2b7f421ba3ed8b813709bc96",
       "version_major": 2,
       "version_minor": 0
      },
      "text/plain": [
       "Downloading https://raw.githubusercontent.com/stanfordnlp/stanza-resources/main/resources_1.4.0.json:   0%|   …"
      ]
     },
     "metadata": {},
     "output_type": "display_data"
    },
    {
     "name": "stderr",
     "output_type": "stream",
     "text": [
      "2022-06-18 19:43:56 INFO: Loading these models for language: pt (Portuguese):\n",
      "==========================\n",
      "| Processor    | Package |\n",
      "--------------------------\n",
      "| tokenize     | bosque  |\n",
      "| mwt          | bosque  |\n",
      "| pos          | bosque  |\n",
      "| lemma        | bosque  |\n",
      "| depparse     | bosque  |\n",
      "| constituency | cintil  |\n",
      "==========================\n",
      "\n",
      "2022-06-18 19:43:56 INFO: Use device: cpu\n",
      "2022-06-18 19:43:56 INFO: Loading: tokenize\n",
      "2022-06-18 19:43:56 INFO: Loading: mwt\n",
      "2022-06-18 19:43:56 INFO: Loading: pos\n",
      "2022-06-18 19:43:57 INFO: Loading: lemma\n",
      "2022-06-18 19:43:57 INFO: Loading: depparse\n",
      "2022-06-18 19:43:57 INFO: Loading: constituency\n",
      "2022-06-18 19:43:57 INFO: Done loading processors!\n"
     ]
    }
   ],
   "source": [
    "import spacy\n",
    "import pt_core_news_sm\n",
    "\n",
    "!pip install deplacy stanza\n",
    "import stanza\n",
    "nlp=stanza.Pipeline(\"pt\")"
   ]
  },
  {
   "cell_type": "code",
   "execution_count": null,
   "metadata": {},
   "outputs": [],
   "source": []
  },
  {
   "cell_type": "code",
   "execution_count": 60,
   "metadata": {},
   "outputs": [],
   "source": [
    "#dataset = pd.read_csv('Tweets_Mg.csv',encoding='utf-8')\n",
    "#dataset.count()"
   ]
  },
  {
   "cell_type": "code",
   "execution_count": 61,
   "metadata": {},
   "outputs": [],
   "source": [
    "import random\n",
    "#tweets = dataset[\"Text\"].values"
   ]
  },
  {
   "cell_type": "code",
   "execution_count": 62,
   "metadata": {},
   "outputs": [],
   "source": [
    "TRAIN_DATA = [\n",
    "    (\"Almira é uma ótima pessoa, gosto muito dela\", {\"entities\": [(0, 6, \"PER\")]}),\n",
    "    (\"João foi para Bahia nas férias\", {\"entities\": [(14, 19, \"LOC\"), (0, 4, \"PER\")]}),\n",
    "    (\"Carlos foi visitar João na casa de praia\", {\"entities\": [(0, 6, \"PER\"), (19, 23, \"PER\")]}),\n",
    "    (\"No meio do ano irei para São Paulo fazer mais um curso\", {\"entities\": [(25, 34, \"LOC\")]}),\n",
    "    (\"O sonho dela era ir para Austrália visitar seu irmão\", {\"entities\": [(25, 34, \"LOC\")]}),\n",
    "    (\"Em 15/07/1988 nasceu essa linda criança\", {\"entities\": [(3, 13, \"DATE\"), (18, 24, \"LOC\")]}),\n",
    "    (\"Data de prisão: 10/01/2018\", {\"entities\": [(16, 26, \"DATE\")]}),\n",
    "    (\"No dia 01/02/2016 foi decretada a sentença\", {\"entities\": [(7, 17, \"DATE\")]}),\n",
    "    (\"A data da festa foi 07/05/2018\", {\"entities\": [(20, 30, \"DATE\")]}),\n",
    "    (\"Dia 07/06/2020 choveu pela manhã\", {\"entities\": [(4, 14, \"DATE\")]}),\n",
    "    (\"Michael Jackson nasceu dia 29/08/1958\", {\"entities\": [(0, 15, \"PER\"), ( 27, 37, \"DATE\")]}),\n",
    "    (\"A viagem foi marcada para o dia 21/03/2021\", {\"entities\": [(32, 42, \"DATE\")]}),\n",
    "    (\"O casamento, que era dia 12/06/2020, foi adiado para o dia 20/07/2020\", {\"entities\": [(25, 35, \"DATE\"), (59, 68, \"DATE\")]}),\n",
    "    (\"Dia 21/04/2020 foi feriado\", {\"entities\": [(4, 14, \"DATE\")]}),\n",
    "    (\"A entrega foi realizada na manhã do dia 18/03/2020 \", {\"entities\": [(40, 50, \"DATE\")]}),\n",
    "    (\"Na noite do dia 17/05/2019 aconteceu um eclipse\", {\"entities\": [(16, 26, \"DATE\")]}),\n",
    "    (\"Fortaleza é a capital do Ceará\", {\"entities\": [(0, 9, \"LOC\"), (25, 30, \"LOC\")]})\n",
    "]"
   ]
  },
  {
   "cell_type": "code",
   "execution_count": 63,
   "metadata": {},
   "outputs": [],
   "source": [
    "def train_spacy(data, n_iter):\n",
    "  TRAIN_DATA = data\n",
    "  \"\"\"Carrega o modelo, configura o pipeline e treina o reconhecedor da entidade.\"\"\"\n",
    "  nlp = pt_core_news_sm.load()  # Carrega um modelo do spaCy existente\n",
    "  print(\"Modelo carregado\")\n",
    "\n",
    "  # Criando os componentes internos do pipeline e adicionando-os ao pipeline\n",
    "  # nlp.create_pipe funciona para built-ins registrados com spaCy\n",
    "  if \"ner\" not in nlp.pipe_names:\n",
    "    ner = nlp.create_pipe(\"ner\")\n",
    "    nlp.add_pipe(ner, last=True)\n",
    "  # Caso contrário, obtenha-o para que possa adicionar as labels\n",
    "  else:\n",
    "    ner = nlp.get_pipe(\"ner\")\n",
    "\n",
    "  # Adicionando as labels\n",
    "  for _, annotations in TRAIN_DATA:\n",
    "    for ent in annotations.get('entities'):\n",
    "      ner.add_label(ent[2])\n",
    "\n",
    "  # Obtendo os nomes de outros pipes para desativá-los durante o treinamento\n",
    "  other_pipes = [pipe for pipe in nlp.pipe_names if pipe != 'ner']\n",
    "  with nlp.disable_pipes(*other_pipes):  # Treina somente NER\n",
    "    spacy.util.fix_random_seed()\n",
    "    optimizer = nlp.begin_training()\n",
    "    \n",
    "    for itn in range(n_iter):\n",
    "      random.seed(10)\n",
    "      random.shuffle(TRAIN_DATA)\n",
    "      losses = {}\n",
    "      \n",
    "      for texts, annotations in TRAIN_DATA:\n",
    "        nlp.update(\n",
    "            [texts],  # batch de textos\n",
    "            [annotations],  # batch de anotações\n",
    "            drop=0.2,  # dropout - dificulta a memorização de dados\n",
    "            sgd=optimizer,\n",
    "            losses=losses,\n",
    "        )\n",
    "      print(\"Losses\", losses)\n",
    "\n",
    "   # test the trained model\n",
    "    for text, _ in TRAIN_DATA:\n",
    "      doc = nlp(text)\n",
    "      print(\"Entities\", [(ent.text, ent.label_) for ent in doc.ents])\n",
    "      print(\"Tokens\", [(t.text, t.ent_type_) for t in doc])\n",
    "      print(\"\\n\")\n",
    "    return nlp"
   ]
  },
  {
   "cell_type": "code",
   "execution_count": 64,
   "metadata": {},
   "outputs": [
    {
     "name": "stdout",
     "output_type": "stream",
     "text": [
      "Modelo carregado\n"
     ]
    },
    {
     "ename": "ValueError",
     "evalue": "[E955] Can't find table(s) lexeme_norm for language 'pt' in spacy-lookups-data. Make sure you have the package installed or provide your own lookup tables if no default lookups are available for your language.",
     "output_type": "error",
     "traceback": [
      "\u001b[1;31m---------------------------------------------------------------------------\u001b[0m",
      "\u001b[1;31mValueError\u001b[0m                                Traceback (most recent call last)",
      "\u001b[1;32mc:\\Users\\Quebec\\Documents\\4P\\4Periodo\\IA\\Lista10\\Spacy.ipynb Cell 8'\u001b[0m in \u001b[0;36m<cell line: 1>\u001b[1;34m()\u001b[0m\n\u001b[1;32m----> <a href='vscode-notebook-cell:/c%3A/Users/Quebec/Documents/4P/4Periodo/IA/Lista10/Spacy.ipynb#ch0000004?line=0'>1</a>\u001b[0m nlp_ \u001b[39m=\u001b[39m train_spacy(data\u001b[39m=\u001b[39;49mTRAIN_DATA, n_iter\u001b[39m=\u001b[39;49m\u001b[39m100\u001b[39;49m)\n",
      "\u001b[1;32mc:\\Users\\Quebec\\Documents\\4P\\4Periodo\\IA\\Lista10\\Spacy.ipynb Cell 7'\u001b[0m in \u001b[0;36mtrain_spacy\u001b[1;34m(data, n_iter)\u001b[0m\n\u001b[0;32m     <a href='vscode-notebook-cell:/c%3A/Users/Quebec/Documents/4P/4Periodo/IA/Lista10/Spacy.ipynb#ch0000003?line=22'>23</a>\u001b[0m \u001b[39mwith\u001b[39;00m nlp\u001b[39m.\u001b[39mdisable_pipes(\u001b[39m*\u001b[39mother_pipes):  \u001b[39m# Treina somente NER\u001b[39;00m\n\u001b[0;32m     <a href='vscode-notebook-cell:/c%3A/Users/Quebec/Documents/4P/4Periodo/IA/Lista10/Spacy.ipynb#ch0000003?line=23'>24</a>\u001b[0m   spacy\u001b[39m.\u001b[39mutil\u001b[39m.\u001b[39mfix_random_seed()\n\u001b[1;32m---> <a href='vscode-notebook-cell:/c%3A/Users/Quebec/Documents/4P/4Periodo/IA/Lista10/Spacy.ipynb#ch0000003?line=24'>25</a>\u001b[0m   optimizer \u001b[39m=\u001b[39m nlp\u001b[39m.\u001b[39;49mbegin_training()\n\u001b[0;32m     <a href='vscode-notebook-cell:/c%3A/Users/Quebec/Documents/4P/4Periodo/IA/Lista10/Spacy.ipynb#ch0000003?line=26'>27</a>\u001b[0m   \u001b[39mfor\u001b[39;00m itn \u001b[39min\u001b[39;00m \u001b[39mrange\u001b[39m(n_iter):\n\u001b[0;32m     <a href='vscode-notebook-cell:/c%3A/Users/Quebec/Documents/4P/4Periodo/IA/Lista10/Spacy.ipynb#ch0000003?line=27'>28</a>\u001b[0m     random\u001b[39m.\u001b[39mseed(\u001b[39m10\u001b[39m)\n",
      "File \u001b[1;32mc:\\Users\\Quebec\\AppData\\Local\\Programs\\Python\\Python310\\lib\\site-packages\\spacy\\language.py:1258\u001b[0m, in \u001b[0;36mLanguage.begin_training\u001b[1;34m(self, get_examples, sgd)\u001b[0m\n\u001b[0;32m   1251\u001b[0m \u001b[39mdef\u001b[39;00m \u001b[39mbegin_training\u001b[39m(\n\u001b[0;32m   1252\u001b[0m     \u001b[39mself\u001b[39m,\n\u001b[0;32m   1253\u001b[0m     get_examples: Optional[Callable[[], Iterable[Example]]] \u001b[39m=\u001b[39m \u001b[39mNone\u001b[39;00m,\n\u001b[0;32m   1254\u001b[0m     \u001b[39m*\u001b[39m,\n\u001b[0;32m   1255\u001b[0m     sgd: Optional[Optimizer] \u001b[39m=\u001b[39m \u001b[39mNone\u001b[39;00m,\n\u001b[0;32m   1256\u001b[0m ) \u001b[39m-\u001b[39m\u001b[39m>\u001b[39m Optimizer:\n\u001b[0;32m   1257\u001b[0m     warnings\u001b[39m.\u001b[39mwarn(Warnings\u001b[39m.\u001b[39mW089, \u001b[39mDeprecationWarning\u001b[39;00m)\n\u001b[1;32m-> 1258\u001b[0m     \u001b[39mreturn\u001b[39;00m \u001b[39mself\u001b[39;49m\u001b[39m.\u001b[39;49minitialize(get_examples, sgd\u001b[39m=\u001b[39;49msgd)\n",
      "File \u001b[1;32mc:\\Users\\Quebec\\AppData\\Local\\Programs\\Python\\Python310\\lib\\site-packages\\spacy\\language.py:1290\u001b[0m, in \u001b[0;36mLanguage.initialize\u001b[1;34m(self, get_examples, sgd)\u001b[0m\n\u001b[0;32m   1288\u001b[0m config \u001b[39m=\u001b[39m \u001b[39mself\u001b[39m\u001b[39m.\u001b[39mconfig\u001b[39m.\u001b[39minterpolate()\n\u001b[0;32m   1289\u001b[0m \u001b[39m# These are the settings provided in the [initialize] block in the config\u001b[39;00m\n\u001b[1;32m-> 1290\u001b[0m I \u001b[39m=\u001b[39m registry\u001b[39m.\u001b[39;49mresolve(config[\u001b[39m\"\u001b[39;49m\u001b[39minitialize\u001b[39;49m\u001b[39m\"\u001b[39;49m], schema\u001b[39m=\u001b[39;49mConfigSchemaInit)\n\u001b[0;32m   1291\u001b[0m before_init \u001b[39m=\u001b[39m I[\u001b[39m\"\u001b[39m\u001b[39mbefore_init\u001b[39m\u001b[39m\"\u001b[39m]\n\u001b[0;32m   1292\u001b[0m \u001b[39mif\u001b[39;00m before_init \u001b[39mis\u001b[39;00m \u001b[39mnot\u001b[39;00m \u001b[39mNone\u001b[39;00m:\n",
      "File \u001b[1;32mc:\\Users\\Quebec\\AppData\\Local\\Programs\\Python\\Python310\\lib\\site-packages\\thinc\\config.py:746\u001b[0m, in \u001b[0;36mregistry.resolve\u001b[1;34m(cls, config, schema, overrides, validate)\u001b[0m\n\u001b[0;32m    737\u001b[0m \u001b[39m@classmethod\u001b[39m\n\u001b[0;32m    738\u001b[0m \u001b[39mdef\u001b[39;00m \u001b[39mresolve\u001b[39m(\n\u001b[0;32m    739\u001b[0m     \u001b[39mcls\u001b[39m,\n\u001b[1;32m   (...)\u001b[0m\n\u001b[0;32m    744\u001b[0m     validate: \u001b[39mbool\u001b[39m \u001b[39m=\u001b[39m \u001b[39mTrue\u001b[39;00m,\n\u001b[0;32m    745\u001b[0m ) \u001b[39m-\u001b[39m\u001b[39m>\u001b[39m Dict[\u001b[39mstr\u001b[39m, Any]:\n\u001b[1;32m--> 746\u001b[0m     resolved, _ \u001b[39m=\u001b[39m \u001b[39mcls\u001b[39;49m\u001b[39m.\u001b[39;49m_make(\n\u001b[0;32m    747\u001b[0m         config, schema\u001b[39m=\u001b[39;49mschema, overrides\u001b[39m=\u001b[39;49moverrides, validate\u001b[39m=\u001b[39;49mvalidate, resolve\u001b[39m=\u001b[39;49m\u001b[39mTrue\u001b[39;49;00m\n\u001b[0;32m    748\u001b[0m     )\n\u001b[0;32m    749\u001b[0m     \u001b[39mreturn\u001b[39;00m resolved\n",
      "File \u001b[1;32mc:\\Users\\Quebec\\AppData\\Local\\Programs\\Python\\Python310\\lib\\site-packages\\thinc\\config.py:795\u001b[0m, in \u001b[0;36mregistry._make\u001b[1;34m(cls, config, schema, overrides, resolve, validate)\u001b[0m\n\u001b[0;32m    793\u001b[0m \u001b[39mif\u001b[39;00m \u001b[39mnot\u001b[39;00m is_interpolated:\n\u001b[0;32m    794\u001b[0m     config \u001b[39m=\u001b[39m Config(orig_config)\u001b[39m.\u001b[39minterpolate()\n\u001b[1;32m--> 795\u001b[0m filled, _, resolved \u001b[39m=\u001b[39m \u001b[39mcls\u001b[39;49m\u001b[39m.\u001b[39;49m_fill(\n\u001b[0;32m    796\u001b[0m     config, schema, validate\u001b[39m=\u001b[39;49mvalidate, overrides\u001b[39m=\u001b[39;49moverrides, resolve\u001b[39m=\u001b[39;49mresolve\n\u001b[0;32m    797\u001b[0m )\n\u001b[0;32m    798\u001b[0m filled \u001b[39m=\u001b[39m Config(filled, section_order\u001b[39m=\u001b[39msection_order)\n\u001b[0;32m    799\u001b[0m \u001b[39m# Check that overrides didn't include invalid properties not in config\u001b[39;00m\n",
      "File \u001b[1;32mc:\\Users\\Quebec\\AppData\\Local\\Programs\\Python\\Python310\\lib\\site-packages\\thinc\\config.py:867\u001b[0m, in \u001b[0;36mregistry._fill\u001b[1;34m(cls, config, schema, validate, resolve, parent, overrides)\u001b[0m\n\u001b[0;32m    864\u001b[0m     getter \u001b[39m=\u001b[39m \u001b[39mcls\u001b[39m\u001b[39m.\u001b[39mget(reg_name, func_name)\n\u001b[0;32m    865\u001b[0m     \u001b[39m# We don't want to try/except this and raise our own error\u001b[39;00m\n\u001b[0;32m    866\u001b[0m     \u001b[39m# here, because we want the traceback if the function fails.\u001b[39;00m\n\u001b[1;32m--> 867\u001b[0m     getter_result \u001b[39m=\u001b[39m getter(\u001b[39m*\u001b[39margs, \u001b[39m*\u001b[39m\u001b[39m*\u001b[39mkwargs)\n\u001b[0;32m    868\u001b[0m \u001b[39melse\u001b[39;00m:\n\u001b[0;32m    869\u001b[0m     \u001b[39m# We're not resolving and calling the function, so replace\u001b[39;00m\n\u001b[0;32m    870\u001b[0m     \u001b[39m# the getter_result with a Promise class\u001b[39;00m\n\u001b[0;32m    871\u001b[0m     getter_result \u001b[39m=\u001b[39m Promise(\n\u001b[0;32m    872\u001b[0m         registry\u001b[39m=\u001b[39mreg_name, name\u001b[39m=\u001b[39mfunc_name, args\u001b[39m=\u001b[39margs, kwargs\u001b[39m=\u001b[39mkwargs\n\u001b[0;32m    873\u001b[0m     )\n",
      "File \u001b[1;32mc:\\Users\\Quebec\\AppData\\Local\\Programs\\Python\\Python310\\lib\\site-packages\\spacy\\language.py:108\u001b[0m, in \u001b[0;36mload_lookups_data\u001b[1;34m(lang, tables)\u001b[0m\n\u001b[0;32m    105\u001b[0m \u001b[39m@registry\u001b[39m\u001b[39m.\u001b[39mmisc(\u001b[39m\"\u001b[39m\u001b[39mspacy.LookupsDataLoader.v1\u001b[39m\u001b[39m\"\u001b[39m)\n\u001b[0;32m    106\u001b[0m \u001b[39mdef\u001b[39;00m \u001b[39mload_lookups_data\u001b[39m(lang, tables):\n\u001b[0;32m    107\u001b[0m     util\u001b[39m.\u001b[39mlogger\u001b[39m.\u001b[39mdebug(\u001b[39mf\u001b[39m\u001b[39m\"\u001b[39m\u001b[39mLoading lookups from spacy-lookups-data: \u001b[39m\u001b[39m{\u001b[39;00mtables\u001b[39m}\u001b[39;00m\u001b[39m\"\u001b[39m)\n\u001b[1;32m--> 108\u001b[0m     lookups \u001b[39m=\u001b[39m load_lookups(lang\u001b[39m=\u001b[39;49mlang, tables\u001b[39m=\u001b[39;49mtables)\n\u001b[0;32m    109\u001b[0m     \u001b[39mreturn\u001b[39;00m lookups\n",
      "File \u001b[1;32mc:\\Users\\Quebec\\AppData\\Local\\Programs\\Python\\Python310\\lib\\site-packages\\spacy\\lookups.py:30\u001b[0m, in \u001b[0;36mload_lookups\u001b[1;34m(lang, tables, strict)\u001b[0m\n\u001b[0;32m     28\u001b[0m \u001b[39mif\u001b[39;00m lang \u001b[39mnot\u001b[39;00m \u001b[39min\u001b[39;00m registry\u001b[39m.\u001b[39mlookups:\n\u001b[0;32m     29\u001b[0m     \u001b[39mif\u001b[39;00m strict \u001b[39mand\u001b[39;00m \u001b[39mlen\u001b[39m(tables) \u001b[39m>\u001b[39m \u001b[39m0\u001b[39m:\n\u001b[1;32m---> 30\u001b[0m         \u001b[39mraise\u001b[39;00m \u001b[39mValueError\u001b[39;00m(Errors\u001b[39m.\u001b[39mE955\u001b[39m.\u001b[39mformat(table\u001b[39m=\u001b[39m\u001b[39m\"\u001b[39m\u001b[39m, \u001b[39m\u001b[39m\"\u001b[39m\u001b[39m.\u001b[39mjoin(tables), lang\u001b[39m=\u001b[39mlang))\n\u001b[0;32m     31\u001b[0m     \u001b[39mreturn\u001b[39;00m lookups\n\u001b[0;32m     32\u001b[0m data \u001b[39m=\u001b[39m registry\u001b[39m.\u001b[39mlookups\u001b[39m.\u001b[39mget(lang)\n",
      "\u001b[1;31mValueError\u001b[0m: [E955] Can't find table(s) lexeme_norm for language 'pt' in spacy-lookups-data. Make sure you have the package installed or provide your own lookup tables if no default lookups are available for your language."
     ]
    }
   ],
   "source": [
    "nlp_ = train_spacy(data=TRAIN_DATA, n_iter=100)"
   ]
  }
 ],
 "metadata": {
  "kernelspec": {
   "display_name": "Python 3.10.4 64-bit",
   "language": "python",
   "name": "python3"
  },
  "language_info": {
   "codemirror_mode": {
    "name": "ipython",
    "version": 3
   },
   "file_extension": ".py",
   "mimetype": "text/x-python",
   "name": "python",
   "nbconvert_exporter": "python",
   "pygments_lexer": "ipython3",
   "version": "3.10.4"
  },
  "orig_nbformat": 4,
  "vscode": {
   "interpreter": {
    "hash": "0666281a62d357c52bc0bfd1a9b94bbeb7297553eb3d67315c1694bd8bcca259"
   }
  }
 },
 "nbformat": 4,
 "nbformat_minor": 2
}
