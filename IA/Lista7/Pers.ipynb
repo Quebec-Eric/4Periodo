{
 "cells": [
  {
   "cell_type": "code",
   "execution_count": 1,
   "metadata": {},
   "outputs": [],
   "source": [
    "import numpy as np\n",
    "import pandas as pd\n"
   ]
  },
  {
   "cell_type": "code",
   "execution_count": 2,
   "metadata": {},
   "outputs": [
    {
     "data": {
      "text/html": [
       "<div>\n",
       "<style scoped>\n",
       "    .dataframe tbody tr th:only-of-type {\n",
       "        vertical-align: middle;\n",
       "    }\n",
       "\n",
       "    .dataframe tbody tr th {\n",
       "        vertical-align: top;\n",
       "    }\n",
       "\n",
       "    .dataframe thead th {\n",
       "        text-align: right;\n",
       "    }\n",
       "</style>\n",
       "<table border=\"1\" class=\"dataframe\">\n",
       "  <thead>\n",
       "    <tr style=\"text-align: right;\">\n",
       "      <th></th>\n",
       "      <th>0</th>\n",
       "      <th>1</th>\n",
       "      <th>2</th>\n",
       "    </tr>\n",
       "  </thead>\n",
       "  <tbody>\n",
       "    <tr>\n",
       "      <th>0</th>\n",
       "      <td>1.0</td>\n",
       "      <td>0.0</td>\n",
       "      <td>0.0</td>\n",
       "    </tr>\n",
       "    <tr>\n",
       "      <th>1</th>\n",
       "      <td>1.0</td>\n",
       "      <td>0.0</td>\n",
       "      <td>1.0</td>\n",
       "    </tr>\n",
       "    <tr>\n",
       "      <th>2</th>\n",
       "      <td>1.0</td>\n",
       "      <td>1.0</td>\n",
       "      <td>0.0</td>\n",
       "    </tr>\n",
       "    <tr>\n",
       "      <th>3</th>\n",
       "      <td>1.0</td>\n",
       "      <td>1.0</td>\n",
       "      <td>1.0</td>\n",
       "    </tr>\n",
       "  </tbody>\n",
       "</table>\n",
       "</div>"
      ],
      "text/plain": [
       "     0    1    2\n",
       "0  1.0  0.0  0.0\n",
       "1  1.0  0.0  1.0\n",
       "2  1.0  1.0  0.0\n",
       "3  1.0  1.0  1.0"
      ]
     },
     "execution_count": 2,
     "metadata": {},
     "output_type": "execute_result"
    }
   ],
   "source": [
    "# entrada  AND\n",
    "x = [[1., 0., 0.], \n",
    "     [1., 0., 1.], \n",
    "     [1., 1., 0.], \n",
    "     [1., 1., 1.]]\n",
    "\n",
    "dfAnd = pd.DataFrame(x)\n",
    "dfAnd\n"
   ]
  },
  {
   "cell_type": "code",
   "execution_count": 3,
   "metadata": {},
   "outputs": [],
   "source": [
    "\n",
    "xor =[[1., 0., 0.],\n",
    "      [1., 0., 1.],\n",
    "      [1., 1., 0.],\n",
    "      [1., 1., 1.]]"
   ]
  },
  {
   "cell_type": "code",
   "execution_count": 4,
   "metadata": {},
   "outputs": [],
   "source": [
    "# saidas and\n",
    "y = [0.,\n",
    "     0.,\n",
    "     0.,\n",
    "     1]\n",
    "\n",
    "\n",
    "#saida XOX\n",
    "yx = [0.,\n",
    "      1.,\n",
    "      1.,\n",
    "      0.]\n"
   ]
  },
  {
   "cell_type": "code",
   "execution_count": 5,
   "metadata": {},
   "outputs": [],
   "source": [
    "def FazerPErc(x, y, eta, t):\n",
    "    vetorDePEso = np.zeros(len(x[0]))\n",
    "    n = 0\n",
    "    saidaR = np.ones(len(y))\n",
    "    erros = np.ones(len(y))\n",
    "    J = []\n",
    "    while n < t:\n",
    "        for i in range(0, len(x)):\n",
    "\n",
    "            f = np.dot(x[i], vetorDePEso)\n",
    "            if f > 0.0:\n",
    "                saidaR[i] = 1\n",
    "            else:\n",
    "                saidaR[i] = 0\n",
    "            \n",
    "            for j in range(0, len(vetorDePEso)):\n",
    "                vetorDePEso[j] = vetorDePEso[j] + eta*(y[i] -  saidaR[i])*x[i][j]\n",
    "            n += 1\n",
    "        for i in range(0, len(y)):\n",
    "            erros[i] = (y[i]-saidaR[i])**2\n",
    "        J.append(0.5*np.sum(erros))\n",
    "    return vetorDePEso, J\n",
    "\n",
    "\n",
    "eta = 0.5\n",
    "t = 50\n"
   ]
  },
  {
   "cell_type": "code",
   "execution_count": 6,
   "metadata": {},
   "outputs": [
    {
     "name": "stdout",
     "output_type": "stream",
     "text": [
      "[1.0, 1.5, 2.0, 2.0, 2.0, 2.0, 2.0, 2.0, 2.0, 2.0, 2.0, 2.0, 2.0]\n"
     ]
    }
   ],
   "source": [
    "print(FazerPErc(xor, yx, 0.5, 50)[1])"
   ]
  }
 ],
 "metadata": {
  "interpreter": {
   "hash": "0666281a62d357c52bc0bfd1a9b94bbeb7297553eb3d67315c1694bd8bcca259"
  },
  "kernelspec": {
   "display_name": "Python 3.10.4 64-bit",
   "language": "python",
   "name": "python3"
  },
  "language_info": {
   "codemirror_mode": {
    "name": "ipython",
    "version": 3
   },
   "file_extension": ".py",
   "mimetype": "text/x-python",
   "name": "python",
   "nbconvert_exporter": "python",
   "pygments_lexer": "ipython3",
   "version": "3.10.4"
  },
  "orig_nbformat": 4
 },
 "nbformat": 4,
 "nbformat_minor": 2
}
