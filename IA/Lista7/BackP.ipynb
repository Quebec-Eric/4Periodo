{
 "cells": [
  {
   "cell_type": "code",
   "execution_count": 89,
   "metadata": {},
   "outputs": [],
   "source": [
    "import numpy as np\n",
    "import pandas as pd"
   ]
  },
  {
   "cell_type": "code",
   "execution_count": 90,
   "metadata": {},
   "outputs": [],
   "source": [
    "def funcaoSigM(x):\n",
    "    return 1/(1+np.exp(-x))"
   ]
  },
  {
   "cell_type": "code",
   "execution_count": 91,
   "metadata": {},
   "outputs": [],
   "source": [
    "def funcaoSigMDeri(x):\n",
    "    return funcaoSigM(x)*(1-funcaoSigM(x))"
   ]
  },
  {
   "cell_type": "code",
   "execution_count": 92,
   "metadata": {},
   "outputs": [],
   "source": [
    "def funcaoIrParaFrente(x,peso1,peso2,predict =False):\n",
    "    a1=np.matmul(x,peso1)\n",
    "    z1=funcaoSigM(a1)\n",
    "\n",
    "    bias = np.ones((len(z1),1))\n",
    "    z1=np.concatenate((bias,z1),axis=1)\n",
    "    a2=np.matmul(z1,peso2)\n",
    "    z2= funcaoSigM(a2)\n",
    "    if predict:\n",
    "        return z2\n",
    "    return a1,z1,a2,z2    "
   ]
  },
  {
   "cell_type": "code",
   "execution_count": 93,
   "metadata": {},
   "outputs": [],
   "source": [
    "def VoltaDaFuncaoBack(a2,z0,z1,z2,y):\n",
    "    delta2=z2-y\n",
    "    Delta2=np.matmul(z1.T, delta2)\n",
    "    delta1=(delta2.dot(peso2[1:,:].T))*funcaoSigMDeri(a1)\n",
    "    Delta1=np.matmul(z0.T,delta1)\n",
    "    return delta2,Delta1,Delta2\n"
   ]
  },
  {
   "cell_type": "code",
   "execution_count": 94,
   "metadata": {},
   "outputs": [],
   "source": [
    "#Xor com bias\n",
    "xor=np.array([ [1,1,0],\n",
    "               [1,0,1],\n",
    "               [1,0,0],\n",
    "               [1,1,1]])"
   ]
  },
  {
   "cell_type": "code",
   "execution_count": 95,
   "metadata": {},
   "outputs": [],
   "source": [
    "yXorSaida = np.array([[0],\n",
    "                     [1],\n",
    "                     [1],\n",
    "                     [0]])\n"
   ]
  },
  {
   "cell_type": "code",
   "execution_count": 96,
   "metadata": {},
   "outputs": [],
   "source": [
    "peso1 =np.random.randn(3,5)\n",
    "peso2 =np.random.randn(6,1)"
   ]
  },
  {
   "cell_type": "code",
   "execution_count": 97,
   "metadata": {},
   "outputs": [
    {
     "name": "stdout",
     "output_type": "stream",
     "text": [
      " Error 0.5261589509778775\n",
      " Error 0.23684729266302224\n",
      " Error 0.07691133437016878\n",
      " Error 0.03802987034461458\n",
      " Error 0.02387524314054342\n",
      " Error 0.01698391597079896\n",
      " Error 0.013011848665378651\n",
      " Error 0.010464122663416387\n",
      " Error 0.008706117047990587\n",
      " Error 0.007427175743829425\n",
      " Error 0.006458836862002602\n",
      " Error 0.0057024395535263065\n",
      " Error 0.005096634879169342\n",
      " Error 0.004601401628118566\n",
      " Error 0.004189587457669093\n",
      " Error 0.0038421590192399594\n",
      " Error 0.003545400368645736\n",
      " Error 0.003289190607126933\n",
      " Error 0.003065906848748742\n",
      " Error 0.0028697037654492434\n",
      " Error 0.0026960276294666413\n",
      " Error 0.002541280722965319\n",
      " Error 0.0024025846971336548\n",
      " Error 0.002277610562773376\n",
      " Error 0.0021644544852294106\n",
      " Error 0.0020615456572221614\n",
      " Error 0.0019675770179360744\n"
     ]
    }
   ],
   "source": [
    "lr = 0.03\n",
    "cost = []\n",
    "\n",
    "tempo = 27000\n",
    "m = len(xor)\n",
    "for i in range(tempo):\n",
    "    a1, z1, a2, z2 = funcaoIrParaFrente(xor, peso1, peso2)\n",
    "\n",
    "    delta2, Delta1, Delta2 = VoltaDaFuncaoBack(a2, xor, z1, z2, yXorSaida)\n",
    "\n",
    "    peso1 -= lr*(1/m)*Delta1\n",
    "    peso2 -= lr*(1/m)*Delta2\n",
    "    error = np.mean(np.abs(delta2))\n",
    "    cost.append(error)\n",
    "    if i % 1000==0:\n",
    "        print(f\" Error {error}\")\n",
    "       \n"
   ]
  },
  {
   "cell_type": "code",
   "execution_count": 98,
   "metadata": {},
   "outputs": [
    {
     "name": "stdout",
     "output_type": "stream",
     "text": [
      "Fim programa\n",
      "[[0.00174194]\n",
      " [0.99873711]\n",
      " [0.99777808]\n",
      " [0.00229906]]\n",
      "[[0.]\n",
      " [1.]\n",
      " [1.]\n",
      " [0.]]\n"
     ]
    }
   ],
   "source": [
    "print(\"Fim programa\")\n",
    "z3 = funcaoIrParaFrente(xor,peso1,peso2,True)\n",
    "print(z3)\n",
    "\n",
    "print(np.round(z3))"
   ]
  }
 ],
 "metadata": {
  "interpreter": {
   "hash": "0666281a62d357c52bc0bfd1a9b94bbeb7297553eb3d67315c1694bd8bcca259"
  },
  "kernelspec": {
   "display_name": "Python 3.10.4 64-bit",
   "language": "python",
   "name": "python3"
  },
  "language_info": {
   "codemirror_mode": {
    "name": "ipython",
    "version": 3
   },
   "file_extension": ".py",
   "mimetype": "text/x-python",
   "name": "python",
   "nbconvert_exporter": "python",
   "pygments_lexer": "ipython3",
   "version": "3.10.4"
  },
  "orig_nbformat": 4
 },
 "nbformat": 4,
 "nbformat_minor": 2
}
